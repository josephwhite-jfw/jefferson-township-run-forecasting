{
 "cells": [
  {
   "cell_type": "code",
   "execution_count": 11,
   "id": "b9efeb8d-c92f-411b-bd01-f115cd67527c",
   "metadata": {},
   "outputs": [],
   "source": [
    "# ── 0. Imports ────────────────────────────────────────────────────────────\n",
    "import pandas as pd, zipfile, sys\n",
    "from pathlib import Path"
   ]
  },
  {
   "cell_type": "code",
   "execution_count": 12,
   "id": "b5d64f19-1c23-49ce-af8a-623d6a379e5b",
   "metadata": {},
   "outputs": [],
   "source": [
    "# ── 1. Project paths ──────────────────────────────────────────────────────\n",
    "ROOT = Path.cwd()                             # wherever the notebook lives\n",
    "# Walk up until we reach the repo root (where .gitignore is). If you’re\n",
    "# not inside a git repo, comment out the while‑loop and set ROOT manually.\n",
    "while not (ROOT / \".gitignore\").exists() and ROOT != ROOT.parent:\n",
    "    ROOT = ROOT.parent\n",
    "\n",
    "RAW_DIR   = ROOT / \"data\" / \"raw\"\n",
    "ZIP_PATH  = RAW_DIR / \"parcel-data.zip\"\n",
    "CSV_DIR   = RAW_DIR / \"parcel-data\"           # if you extracted the CSVs\n",
    "EXTRACTED = CSV_DIR.exists()                  # auto‑detect\n",
    "\n",
    "YEARS = range(2014, 2025)\n",
    "\n",
    "KEEP_COLS = [\n",
    "    \"PARCEL ID\", \"AUDMAP\", \"AUDRTG\", \"TAXDESI\", \"SCHOOL\", \"USPS_CITY\",\n",
    "    \"LANDUSE\", \"PROPTYP\", \"PCLASS\",\n",
    "    \"AREA_A\", \"ACREA\", \"ROOMS\", \"BEDRMS\", \"BATHS\",\n",
    "    \"YEARBLT\", \"DWELTYP\", \"COND\", \"GRADE\",\n",
    "    \"APPRLND\", \"APPRBLD\", \"APPRTOT\", \"POINT_X\", \"POINT_Y\",\n",
    "]\n",
    "\n",
    "def clean_names(cols: pd.Index) -> pd.Index:\n",
    "    return (cols.str.strip()\n",
    "                .str.lower()\n",
    "                .str.replace(r\"[^\\w]+\", \"_\", regex=True)\n",
    "                .str.strip(\"_\"))\n",
    "\n",
    "def load_year(year: int) -> pd.DataFrame:\n",
    "    fname = f\"Parcel{year}.csv\"\n",
    "    if EXTRACTED:\n",
    "        path = CSV_DIR / fname\n",
    "        if not path.exists():\n",
    "            raise FileNotFoundError(f\"{path} missing—check EXTRACTED flag.\")\n",
    "        df = pd.read_csv(path, usecols=KEEP_COLS, dtype=str, low_memory=False)\n",
    "    else:\n",
    "        if not ZIP_PATH.exists():\n",
    "            raise FileNotFoundError(f\"{ZIP_PATH} not found.\")\n",
    "        target = next((n for n in zipfile.ZipFile(ZIP_PATH).namelist()\n",
    "                       if n.lower().endswith(fname.lower())), None)\n",
    "        if target is None:\n",
    "            raise FileNotFoundError(f\"{fname} not in {ZIP_PATH.name}\")\n",
    "        with zipfile.ZipFile(ZIP_PATH).open(target) as f:\n",
    "            df = pd.read_csv(f, usecols=KEEP_COLS, dtype=str, low_memory=False)\n",
    "    df[\"source_year\"] = year\n",
    "    return df"
   ]
  },
  {
   "cell_type": "code",
   "execution_count": 13,
   "id": "327d2151-515d-43ad-a469-fe2a7eebd17d",
   "metadata": {},
   "outputs": [
    {
     "name": "stdout",
     "output_type": "stream",
     "text": [
      "Loading 2014… Loading 2015… Loading 2016… Loading 2017… Loading 2018… Loading 2019… Loading 2020… Loading 2021… Loading 2022… Loading 2023… Loading 2024… done.\n",
      "4,645,689 rows × 24 cols loaded.\n"
     ]
    }
   ],
   "source": [
    "# ── 2. Load & concat ──────────────────────────────────────────────────────\n",
    "frames = []\n",
    "for yr in YEARS:\n",
    "    print(f\"Loading {yr}…\", end=\" \")\n",
    "    frames.append(load_year(yr))\n",
    "print(\"done.\")\n",
    "\n",
    "parcels = pd.concat(frames, ignore_index=True)\n",
    "parcels.columns = clean_names(parcels.columns)\n",
    "print(f\"{len(parcels):,} rows × {parcels.shape[1]} cols loaded.\")\n",
    "\n",
    "# ── 3. Basic type fixes ───────────────────────────────────────────────────\n",
    "num_cols = [\"area_a\", \"acrea\", \"apprlnd\", \"apprbld\", \"apprtot\",\n",
    "            \"point_x\", \"point_y\", \"yearblt\", \"rooms\", \"bedrms\", \"baths\"]\n",
    "for col in num_cols:\n",
    "    parcels[col] = pd.to_numeric(parcels[col], errors=\"coerce\")\n",
    "\n",
    "cat_cols = [\"landuse\", \"pclass\", \"proptyp\", \"dweltyp\", \"cond\", \"grade\"]\n",
    "for col in cat_cols:\n",
    "    parcels[col] = parcels[col].astype(\"category\")\n",
    "\n",
    "parcels[\"parcel_id\"] = parcels[\"parcel_id\"].str.strip()"
   ]
  },
  {
   "cell_type": "code",
   "execution_count": 14,
   "id": "02ddc203-de03-45b5-b9b2-e41f74f410a1",
   "metadata": {},
   "outputs": [
    {
     "name": "stdout",
     "output_type": "stream",
     "text": [
      "66,556 Jefferson‑area rows (1.43% of all rows)\n"
     ]
    }
   ],
   "source": [
    "# ── 4. Filter to Jefferson‑area tax districts ─────────────────────────────\n",
    "# district numbers you supplied (keep leading zeros for clarity)\n",
    "JT_CODES = {\"027\", \"062\", \"067\", \"068\", \"170\",\n",
    "            \"171\", \"172\", \"173\", \"175\", \"440\"}\n",
    "\n",
    "# add a helper column with the 3‑digit code (string, zero‑padded)\n",
    "parcels[\"taxdist_code\"] = (\n",
    "    parcels[\"parcel_id\"].str.split(\"-\").str[0].str.zfill(3)\n",
    ")\n",
    "\n",
    "# subset\n",
    "jt_parcels = parcels[parcels[\"taxdist_code\"].isin(JT_CODES)].copy()\n",
    "\n",
    "print(f\"{len(jt_parcels):,} Jefferson‑area rows \"\n",
    "      f\"({len(jt_parcels)/len(parcels):.2%} of all rows)\")"
   ]
  },
  {
   "cell_type": "code",
   "execution_count": 15,
   "id": "286078b7-c68f-4b71-9eac-626fdc43265e",
   "metadata": {},
   "outputs": [
    {
     "name": "stdout",
     "output_type": "stream",
     "text": [
      "✓ panel  → C:\\Users\\JosephWhite\\Documents\\GitHub\\jefferson-township-run-forecasting\\data\\clean\\parcels_jefferson_panel.csv\n",
      "✓ latest → C:\\Users\\JosephWhite\\Documents\\GitHub\\jefferson-township-run-forecasting\\data\\clean\\parcels_jefferson_latest.csv\n"
     ]
    }
   ],
   "source": [
    "# ── 5. Save Jefferson‑only CSVs (uncompressed) ────────────────────────────\n",
    "OUT_DIR = ROOT / \"data\" / \"clean\"\n",
    "OUT_DIR.mkdir(parents=True, exist_ok=True)\n",
    "\n",
    "panel_csv  = OUT_DIR / \"parcels_jefferson_panel.csv\"\n",
    "latest_csv = OUT_DIR / \"parcels_jefferson_latest.csv\"\n",
    "\n",
    "jt_parcels.to_csv(panel_csv, index=False)\n",
    "print(\"✓ panel  →\", panel_csv)\n",
    "\n",
    "jt_latest = (jt_parcels.sort_values(\"source_year\")\n",
    "                         .drop_duplicates(\"parcel_id\", keep=\"last\"))\n",
    "jt_latest.to_csv(latest_csv, index=False)\n",
    "print(\"✓ latest →\", latest_csv)"
   ]
  },
  {
   "cell_type": "code",
   "execution_count": null,
   "id": "da7286da-f240-4ff2-9d5f-219750ce90ac",
   "metadata": {},
   "outputs": [],
   "source": []
  }
 ],
 "metadata": {
  "kernelspec": {
   "display_name": "Python 3 (ipykernel)",
   "language": "python",
   "name": "python3"
  },
  "language_info": {
   "codemirror_mode": {
    "name": "ipython",
    "version": 3
   },
   "file_extension": ".py",
   "mimetype": "text/x-python",
   "name": "python",
   "nbconvert_exporter": "python",
   "pygments_lexer": "ipython3",
   "version": "3.13.2"
  }
 },
 "nbformat": 4,
 "nbformat_minor": 5
}
