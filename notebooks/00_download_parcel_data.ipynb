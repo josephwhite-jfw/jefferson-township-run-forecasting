{
 "cells": [
  {
   "cell_type": "code",
   "execution_count": 3,
   "id": "d43518d8-52bd-491b-b9e3-c474aeb886a6",
   "metadata": {},
   "outputs": [
    {
     "data": {
      "application/vnd.jupyter.widget-view+json": {
       "model_id": "3b9136ef4ce2449bac720001fa494ae3",
       "version_major": 2,
       "version_minor": 0
      },
      "text/plain": [
       "Completed:   0%|          | 0/84 [00:00<?, ?file/s]"
      ]
     },
     "metadata": {},
     "output_type": "display_data"
    },
    {
     "data": {
      "application/vnd.jupyter.widget-view+json": {
       "model_id": "9507000ef9774ad499a5940a8cca9066",
       "version_major": 2,
       "version_minor": 0
      },
      "text/plain": [
       "parcel_08_2018.csv:   0%|                                                                   | 0.00/231M [00:00…"
      ]
     },
     "metadata": {},
     "output_type": "display_data"
    },
    {
     "data": {
      "application/vnd.jupyter.widget-view+json": {
       "model_id": "48eb102a79b645d288e34d5a5161a7db",
       "version_major": 2,
       "version_minor": 0
      },
      "text/plain": [
       "parcel_10_2018.csv:   0%|                                                                   | 0.00/232M [00:00…"
      ]
     },
     "metadata": {},
     "output_type": "display_data"
    },
    {
     "data": {
      "application/vnd.jupyter.widget-view+json": {
       "model_id": "4cd674ced21a4f808d3ce08d19f58e57",
       "version_major": 2,
       "version_minor": 0
      },
      "text/plain": [
       "parcel_11_2018.csv:   0%|                                                                   | 0.00/205M [00:00…"
      ]
     },
     "metadata": {},
     "output_type": "display_data"
    },
    {
     "data": {
      "application/vnd.jupyter.widget-view+json": {
       "model_id": "6bda858acbfb485794a565b0783416c4",
       "version_major": 2,
       "version_minor": 0
      },
      "text/plain": [
       "parcel_09_2018.csv:   0%|                                                                   | 0.00/232M [00:00…"
      ]
     },
     "metadata": {},
     "output_type": "display_data"
    },
    {
     "name": "stdout",
     "output_type": "stream",
     "text": [
      "✓  parcel_11_2018.csv\n"
     ]
    },
    {
     "data": {
      "application/vnd.jupyter.widget-view+json": {
       "model_id": "3d8d3aec11714978898c6fedc2b7a5d2",
       "version_major": 2,
       "version_minor": 0
      },
      "text/plain": [
       "parcel_12_2018.csv:   0%|                                                                   | 0.00/205M [00:00…"
      ]
     },
     "metadata": {},
     "output_type": "display_data"
    },
    {
     "name": "stdout",
     "output_type": "stream",
     "text": [
      "✓  parcel_09_2018.csv\n"
     ]
    },
    {
     "data": {
      "application/vnd.jupyter.widget-view+json": {
       "model_id": "1534063086b64302b6b5925d96a9ec88",
       "version_major": 2,
       "version_minor": 0
      },
      "text/plain": [
       "parcel_01_2019.csv:   0%|                                                                   | 0.00/205M [00:00…"
      ]
     },
     "metadata": {},
     "output_type": "display_data"
    },
    {
     "name": "stdout",
     "output_type": "stream",
     "text": [
      "✓  parcel_10_2018.csv\n"
     ]
    },
    {
     "data": {
      "application/vnd.jupyter.widget-view+json": {
       "model_id": "1a40351809d544b99b8cbb25dcca4b38",
       "version_major": 2,
       "version_minor": 0
      },
      "text/plain": [
       "parcel_02_2019.csv:   0%|                                                                   | 0.00/232M [00:00…"
      ]
     },
     "metadata": {},
     "output_type": "display_data"
    },
    {
     "name": "stdout",
     "output_type": "stream",
     "text": [
      "✓  parcel_08_2018.csv\n"
     ]
    },
    {
     "data": {
      "application/vnd.jupyter.widget-view+json": {
       "model_id": "95b59c79a7ab476d9eeb1ca55b09088f",
       "version_major": 2,
       "version_minor": 0
      },
      "text/plain": [
       "parcel_03_2019.csv:   0%|                                                                   | 0.00/232M [00:00…"
      ]
     },
     "metadata": {},
     "output_type": "display_data"
    },
    {
     "name": "stdout",
     "output_type": "stream",
     "text": [
      "✓  parcel_12_2018.csv\n"
     ]
    },
    {
     "data": {
      "application/vnd.jupyter.widget-view+json": {
       "model_id": "afdec92661324f03ac0deae94e0e2cd9",
       "version_major": 2,
       "version_minor": 0
      },
      "text/plain": [
       "parcel_04_2019.csv:   0%|                                                                   | 0.00/232M [00:00…"
      ]
     },
     "metadata": {},
     "output_type": "display_data"
    },
    {
     "name": "stdout",
     "output_type": "stream",
     "text": [
      "✓  parcel_02_2019.csv\n"
     ]
    },
    {
     "data": {
      "application/vnd.jupyter.widget-view+json": {
       "model_id": "46b345436d0f42199939da5ae176d133",
       "version_major": 2,
       "version_minor": 0
      },
      "text/plain": [
       "parcel_05_2019.csv:   0%|                                                                   | 0.00/232M [00:00…"
      ]
     },
     "metadata": {},
     "output_type": "display_data"
    },
    {
     "name": "stdout",
     "output_type": "stream",
     "text": [
      "✓  parcel_01_2019.csv\n"
     ]
    },
    {
     "data": {
      "application/vnd.jupyter.widget-view+json": {
       "model_id": "0538ca814e5f4ed0a874b222941d2f4d",
       "version_major": 2,
       "version_minor": 0
      },
      "text/plain": [
       "parcel_06_2019.csv:   0%|                                                                   | 0.00/232M [00:00…"
      ]
     },
     "metadata": {},
     "output_type": "display_data"
    },
    {
     "name": "stdout",
     "output_type": "stream",
     "text": [
      "✓  parcel_03_2019.csv\n"
     ]
    },
    {
     "data": {
      "application/vnd.jupyter.widget-view+json": {
       "model_id": "531ff442d2b2478595d0b2b836c47a16",
       "version_major": 2,
       "version_minor": 0
      },
      "text/plain": [
       "parcel_07_2019.csv:   0%|                                                                   | 0.00/232M [00:00…"
      ]
     },
     "metadata": {},
     "output_type": "display_data"
    },
    {
     "name": "stdout",
     "output_type": "stream",
     "text": [
      "✓  parcel_04_2019.csv\n"
     ]
    },
    {
     "data": {
      "application/vnd.jupyter.widget-view+json": {
       "model_id": "78626aef32854645bd9bb9029b2bb429",
       "version_major": 2,
       "version_minor": 0
      },
      "text/plain": [
       "parcel_08_2019.csv:   0%|                                                                   | 0.00/232M [00:00…"
      ]
     },
     "metadata": {},
     "output_type": "display_data"
    },
    {
     "name": "stdout",
     "output_type": "stream",
     "text": [
      "✓  parcel_07_2019.csv\n"
     ]
    },
    {
     "data": {
      "application/vnd.jupyter.widget-view+json": {
       "model_id": "e673934c52a642a1b99a08a0b98b8a26",
       "version_major": 2,
       "version_minor": 0
      },
      "text/plain": [
       "parcel_09_2019.csv:   0%|                                                                   | 0.00/232M [00:00…"
      ]
     },
     "metadata": {},
     "output_type": "display_data"
    },
    {
     "name": "stdout",
     "output_type": "stream",
     "text": [
      "✓  parcel_06_2019.csv\n"
     ]
    },
    {
     "data": {
      "application/vnd.jupyter.widget-view+json": {
       "model_id": "c99c1ae3b1f34ea2ab118b8102823f88",
       "version_major": 2,
       "version_minor": 0
      },
      "text/plain": [
       "parcel_10_2019.csv:   0%|                                                                   | 0.00/232M [00:00…"
      ]
     },
     "metadata": {},
     "output_type": "display_data"
    },
    {
     "name": "stdout",
     "output_type": "stream",
     "text": [
      "✓  parcel_05_2019.csv\n"
     ]
    },
    {
     "data": {
      "application/vnd.jupyter.widget-view+json": {
       "model_id": "c519ce9367b948cdb1f75b4bdc755376",
       "version_major": 2,
       "version_minor": 0
      },
      "text/plain": [
       "parcel_11_2019.csv:   0%|                                                                   | 0.00/233M [00:00…"
      ]
     },
     "metadata": {},
     "output_type": "display_data"
    },
    {
     "name": "stdout",
     "output_type": "stream",
     "text": [
      "✓  parcel_10_2019.csv\n",
      "skip parcel_12_2019.csv\n"
     ]
    },
    {
     "data": {
      "application/vnd.jupyter.widget-view+json": {
       "model_id": "aad3eeb834cd4ad6ad9e2db3b8a093e4",
       "version_major": 2,
       "version_minor": 0
      },
      "text/plain": [
       "parcel_01_2020.csv:   0%|                                                                   | 0.00/233M [00:00…"
      ]
     },
     "metadata": {},
     "output_type": "display_data"
    },
    {
     "name": "stdout",
     "output_type": "stream",
     "text": [
      "✓  parcel_08_2019.csv\n"
     ]
    },
    {
     "data": {
      "application/vnd.jupyter.widget-view+json": {
       "model_id": "58b897fca2394f93bd1a41f002bbb197",
       "version_major": 2,
       "version_minor": 0
      },
      "text/plain": [
       "parcel_02_2020.csv:   0%|                                                                   | 0.00/233M [00:00…"
      ]
     },
     "metadata": {},
     "output_type": "display_data"
    },
    {
     "name": "stdout",
     "output_type": "stream",
     "text": [
      "✓  parcel_09_2019.csv\n"
     ]
    },
    {
     "data": {
      "application/vnd.jupyter.widget-view+json": {
       "model_id": "e6c862d6f8a24ceea1e3f7e9d6672ff1",
       "version_major": 2,
       "version_minor": 0
      },
      "text/plain": [
       "parcel_03_2020.csv:   0%|                                                                   | 0.00/234M [00:00…"
      ]
     },
     "metadata": {},
     "output_type": "display_data"
    },
    {
     "name": "stdout",
     "output_type": "stream",
     "text": [
      "✓  parcel_11_2019.csv\n"
     ]
    },
    {
     "data": {
      "application/vnd.jupyter.widget-view+json": {
       "model_id": "9d786f5c64754b3a95dc6a83c288914b",
       "version_major": 2,
       "version_minor": 0
      },
      "text/plain": [
       "parcel_04_2020.csv:   0%|                                                                   | 0.00/234M [00:00…"
      ]
     },
     "metadata": {},
     "output_type": "display_data"
    },
    {
     "name": "stdout",
     "output_type": "stream",
     "text": [
      "✓  parcel_02_2020.csv\n"
     ]
    },
    {
     "data": {
      "application/vnd.jupyter.widget-view+json": {
       "model_id": "a8327e0c59574f3b92da427cf76a8b29",
       "version_major": 2,
       "version_minor": 0
      },
      "text/plain": [
       "parcel_05_2020.csv:   0%|                                                                   | 0.00/234M [00:00…"
      ]
     },
     "metadata": {},
     "output_type": "display_data"
    },
    {
     "name": "stdout",
     "output_type": "stream",
     "text": [
      "✓  parcel_01_2020.csv\n"
     ]
    },
    {
     "data": {
      "application/vnd.jupyter.widget-view+json": {
       "model_id": "cccca79ecd934432a90267fa5373e89d",
       "version_major": 2,
       "version_minor": 0
      },
      "text/plain": [
       "parcel_06_2020.csv:   0%|                                                                   | 0.00/234M [00:00…"
      ]
     },
     "metadata": {},
     "output_type": "display_data"
    },
    {
     "name": "stdout",
     "output_type": "stream",
     "text": [
      "✓  parcel_04_2020.csv\n"
     ]
    },
    {
     "data": {
      "application/vnd.jupyter.widget-view+json": {
       "model_id": "a89562349fa44392b7ac15e83da1d40e",
       "version_major": 2,
       "version_minor": 0
      },
      "text/plain": [
       "parcel_07_2020.csv:   0%|                                                                   | 0.00/234M [00:00…"
      ]
     },
     "metadata": {},
     "output_type": "display_data"
    },
    {
     "name": "stdout",
     "output_type": "stream",
     "text": [
      "✓  parcel_03_2020.csv\n"
     ]
    },
    {
     "data": {
      "application/vnd.jupyter.widget-view+json": {
       "model_id": "8402edc096154e1980dfb5d45b2dd704",
       "version_major": 2,
       "version_minor": 0
      },
      "text/plain": [
       "parcel_08_2020.csv:   0%|                                                                   | 0.00/234M [00:00…"
      ]
     },
     "metadata": {},
     "output_type": "display_data"
    },
    {
     "name": "stdout",
     "output_type": "stream",
     "text": [
      "✓  parcel_05_2020.csv\n"
     ]
    },
    {
     "data": {
      "application/vnd.jupyter.widget-view+json": {
       "model_id": "cb8b48ddb62e47e893f4e5ac07a55be2",
       "version_major": 2,
       "version_minor": 0
      },
      "text/plain": [
       "parcel_09_2020.csv:   0%|                                                                   | 0.00/234M [00:00…"
      ]
     },
     "metadata": {},
     "output_type": "display_data"
    },
    {
     "name": "stdout",
     "output_type": "stream",
     "text": [
      "✓  parcel_06_2020.csv\n"
     ]
    },
    {
     "data": {
      "application/vnd.jupyter.widget-view+json": {
       "model_id": "d032e353d3f5433f87e48d6ae65bb106",
       "version_major": 2,
       "version_minor": 0
      },
      "text/plain": [
       "parcel_10_2020.csv:   0%|                                                                   | 0.00/234M [00:00…"
      ]
     },
     "metadata": {},
     "output_type": "display_data"
    },
    {
     "name": "stdout",
     "output_type": "stream",
     "text": [
      "✓  parcel_08_2020.csv\n"
     ]
    },
    {
     "data": {
      "application/vnd.jupyter.widget-view+json": {
       "model_id": "1a2f68fdec01475ca545139fcb372f9b",
       "version_major": 2,
       "version_minor": 0
      },
      "text/plain": [
       "parcel_11_2020.csv:   0%|                                                                   | 0.00/234M [00:00…"
      ]
     },
     "metadata": {},
     "output_type": "display_data"
    },
    {
     "name": "stdout",
     "output_type": "stream",
     "text": [
      "✓  parcel_09_2020.csv\n"
     ]
    },
    {
     "data": {
      "application/vnd.jupyter.widget-view+json": {
       "model_id": "eea6ef6a1019444bb9cb6dc0926d3475",
       "version_major": 2,
       "version_minor": 0
      },
      "text/plain": [
       "parcel_12_2020.csv:   0%|                                                                   | 0.00/234M [00:00…"
      ]
     },
     "metadata": {},
     "output_type": "display_data"
    },
    {
     "name": "stdout",
     "output_type": "stream",
     "text": [
      "✓  parcel_07_2020.csv\n"
     ]
    },
    {
     "data": {
      "application/vnd.jupyter.widget-view+json": {
       "model_id": "949a7f5aaf6e4064995f9ce07a388a93",
       "version_major": 2,
       "version_minor": 0
      },
      "text/plain": [
       "parcel_01_2021.csv:   0%|                                                                   | 0.00/235M [00:00…"
      ]
     },
     "metadata": {},
     "output_type": "display_data"
    },
    {
     "name": "stdout",
     "output_type": "stream",
     "text": [
      "✓  parcel_11_2020.csv\n"
     ]
    },
    {
     "data": {
      "application/vnd.jupyter.widget-view+json": {
       "model_id": "b7b13e9fff2a4463ba57697837401a85",
       "version_major": 2,
       "version_minor": 0
      },
      "text/plain": [
       "parcel_02_2021.csv:   0%|                                                                   | 0.00/235M [00:00…"
      ]
     },
     "metadata": {},
     "output_type": "display_data"
    },
    {
     "name": "stdout",
     "output_type": "stream",
     "text": [
      "✓  parcel_10_2020.csv\n"
     ]
    },
    {
     "data": {
      "application/vnd.jupyter.widget-view+json": {
       "model_id": "fd2f4e3208a9478ca3989e220e1d5c7d",
       "version_major": 2,
       "version_minor": 0
      },
      "text/plain": [
       "parcel_03_2021.csv:   0%|                                                                   | 0.00/235M [00:00…"
      ]
     },
     "metadata": {},
     "output_type": "display_data"
    },
    {
     "name": "stdout",
     "output_type": "stream",
     "text": [
      "✓  parcel_01_2021.csv\n"
     ]
    },
    {
     "data": {
      "application/vnd.jupyter.widget-view+json": {
       "model_id": "a2969be1d1694ac4b9d9788fe5e4007e",
       "version_major": 2,
       "version_minor": 0
      },
      "text/plain": [
       "parcel_04_2021.csv:   0%|                                                                   | 0.00/235M [00:00…"
      ]
     },
     "metadata": {},
     "output_type": "display_data"
    },
    {
     "name": "stdout",
     "output_type": "stream",
     "text": [
      "✓  parcel_12_2020.csv\n"
     ]
    },
    {
     "data": {
      "application/vnd.jupyter.widget-view+json": {
       "model_id": "6e8e6e85cabf4647bb0fa0958791fce3",
       "version_major": 2,
       "version_minor": 0
      },
      "text/plain": [
       "parcel_05_2021.csv:   0%|                                                                   | 0.00/235M [00:00…"
      ]
     },
     "metadata": {},
     "output_type": "display_data"
    },
    {
     "name": "stdout",
     "output_type": "stream",
     "text": [
      "✓  parcel_03_2021.csv\n"
     ]
    },
    {
     "data": {
      "application/vnd.jupyter.widget-view+json": {
       "model_id": "8c5af344556a46a2999c6009b90727f7",
       "version_major": 2,
       "version_minor": 0
      },
      "text/plain": [
       "parcel_06_2021.csv:   0%|                                                                   | 0.00/235M [00:00…"
      ]
     },
     "metadata": {},
     "output_type": "display_data"
    },
    {
     "name": "stdout",
     "output_type": "stream",
     "text": [
      "✓  parcel_02_2021.csv\n"
     ]
    },
    {
     "data": {
      "application/vnd.jupyter.widget-view+json": {
       "model_id": "3508f482a3d748589b7a9e953b039031",
       "version_major": 2,
       "version_minor": 0
      },
      "text/plain": [
       "parcel_07_2021.csv:   0%|                                                                   | 0.00/235M [00:00…"
      ]
     },
     "metadata": {},
     "output_type": "display_data"
    },
    {
     "name": "stdout",
     "output_type": "stream",
     "text": [
      "✓  parcel_04_2021.csv\n"
     ]
    },
    {
     "data": {
      "application/vnd.jupyter.widget-view+json": {
       "model_id": "980a5c2065c8417ba8f85844c70b51d6",
       "version_major": 2,
       "version_minor": 0
      },
      "text/plain": [
       "parcel_08_2021.csv:   0%|                                                                   | 0.00/235M [00:00…"
      ]
     },
     "metadata": {},
     "output_type": "display_data"
    },
    {
     "name": "stdout",
     "output_type": "stream",
     "text": [
      "✓  parcel_05_2021.csv\n"
     ]
    },
    {
     "data": {
      "application/vnd.jupyter.widget-view+json": {
       "model_id": "25a021b53c494dc682668b3140ffc512",
       "version_major": 2,
       "version_minor": 0
      },
      "text/plain": [
       "parcel_09_2021.csv:   0%|                                                                   | 0.00/235M [00:00…"
      ]
     },
     "metadata": {},
     "output_type": "display_data"
    },
    {
     "name": "stdout",
     "output_type": "stream",
     "text": [
      "✓  parcel_06_2021.csv\n"
     ]
    },
    {
     "data": {
      "application/vnd.jupyter.widget-view+json": {
       "model_id": "dad6a3ff30b946729a2679680bbd951d",
       "version_major": 2,
       "version_minor": 0
      },
      "text/plain": [
       "parcel_10_2021.csv:   0%|                                                                   | 0.00/235M [00:00…"
      ]
     },
     "metadata": {},
     "output_type": "display_data"
    },
    {
     "name": "stdout",
     "output_type": "stream",
     "text": [
      "✓  parcel_07_2021.csv\n"
     ]
    },
    {
     "data": {
      "application/vnd.jupyter.widget-view+json": {
       "model_id": "88b2568075194df1aee5250244b7f069",
       "version_major": 2,
       "version_minor": 0
      },
      "text/plain": [
       "parcel_11_2021.csv:   0%|                                                                   | 0.00/235M [00:00…"
      ]
     },
     "metadata": {},
     "output_type": "display_data"
    },
    {
     "name": "stdout",
     "output_type": "stream",
     "text": [
      "✓  parcel_09_2021.csv\n",
      "skip parcel_12_2021.csv\n"
     ]
    },
    {
     "data": {
      "application/vnd.jupyter.widget-view+json": {
       "model_id": "2087b8810b8841e285f3a95dff92af79",
       "version_major": 2,
       "version_minor": 0
      },
      "text/plain": [
       "parcel_01_2022.csv:   0%|                                                                   | 0.00/235M [00:00…"
      ]
     },
     "metadata": {},
     "output_type": "display_data"
    },
    {
     "name": "stdout",
     "output_type": "stream",
     "text": [
      "✓  parcel_10_2021.csv\n"
     ]
    },
    {
     "data": {
      "application/vnd.jupyter.widget-view+json": {
       "model_id": "a004363d29df4462b908eb8669a40a4c",
       "version_major": 2,
       "version_minor": 0
      },
      "text/plain": [
       "parcel_02_2022.csv:   0%|                                                                   | 0.00/235M [00:00…"
      ]
     },
     "metadata": {},
     "output_type": "display_data"
    },
    {
     "name": "stdout",
     "output_type": "stream",
     "text": [
      "✓  parcel_08_2021.csv\n"
     ]
    },
    {
     "data": {
      "application/vnd.jupyter.widget-view+json": {
       "model_id": "7105cbd2ac9d4b6f96977a373d5b2d13",
       "version_major": 2,
       "version_minor": 0
      },
      "text/plain": [
       "parcel_03_2022.csv:   0%|                                                                   | 0.00/235M [00:00…"
      ]
     },
     "metadata": {},
     "output_type": "display_data"
    },
    {
     "name": "stdout",
     "output_type": "stream",
     "text": [
      "✓  parcel_11_2021.csv\n"
     ]
    },
    {
     "data": {
      "application/vnd.jupyter.widget-view+json": {
       "model_id": "370678e5f314412d94ad33affa352caa",
       "version_major": 2,
       "version_minor": 0
      },
      "text/plain": [
       "parcel_04_2022.csv:   0%|                                                                   | 0.00/235M [00:00…"
      ]
     },
     "metadata": {},
     "output_type": "display_data"
    },
    {
     "name": "stdout",
     "output_type": "stream",
     "text": [
      "✓  parcel_02_2022.csv\n"
     ]
    },
    {
     "data": {
      "application/vnd.jupyter.widget-view+json": {
       "model_id": "ca55f6991d104d85b23a02a0ef274733",
       "version_major": 2,
       "version_minor": 0
      },
      "text/plain": [
       "parcel_05_2022.csv:   0%|                                                                   | 0.00/235M [00:00…"
      ]
     },
     "metadata": {},
     "output_type": "display_data"
    },
    {
     "name": "stdout",
     "output_type": "stream",
     "text": [
      "✓  parcel_03_2022.csv\n"
     ]
    },
    {
     "data": {
      "application/vnd.jupyter.widget-view+json": {
       "model_id": "eba9c94eebb14488b3a7b59ef1d6a28e",
       "version_major": 2,
       "version_minor": 0
      },
      "text/plain": [
       "parcel_06_2022.csv:   0%|                                                                   | 0.00/235M [00:00…"
      ]
     },
     "metadata": {},
     "output_type": "display_data"
    },
    {
     "name": "stdout",
     "output_type": "stream",
     "text": [
      "✓  parcel_01_2022.csv\n"
     ]
    },
    {
     "data": {
      "application/vnd.jupyter.widget-view+json": {
       "model_id": "700d1e641f00458798f8724c8a43dbb1",
       "version_major": 2,
       "version_minor": 0
      },
      "text/plain": [
       "parcel_07_2022.csv:   0%|                                                                   | 0.00/235M [00:00…"
      ]
     },
     "metadata": {},
     "output_type": "display_data"
    },
    {
     "name": "stdout",
     "output_type": "stream",
     "text": [
      "✓  parcel_04_2022.csv\n"
     ]
    },
    {
     "data": {
      "application/vnd.jupyter.widget-view+json": {
       "model_id": "926a44c872854d9d972d07022428fefe",
       "version_major": 2,
       "version_minor": 0
      },
      "text/plain": [
       "parcel_08_2022.csv:   0%|                                                                   | 0.00/235M [00:00…"
      ]
     },
     "metadata": {},
     "output_type": "display_data"
    },
    {
     "name": "stdout",
     "output_type": "stream",
     "text": [
      "✓  parcel_05_2022.csv\n"
     ]
    },
    {
     "data": {
      "application/vnd.jupyter.widget-view+json": {
       "model_id": "1fc2b614725e4876ba88c4d57f212ccc",
       "version_major": 2,
       "version_minor": 0
      },
      "text/plain": [
       "parcel_09_2022.csv:   0%|                                                                   | 0.00/239M [00:00…"
      ]
     },
     "metadata": {},
     "output_type": "display_data"
    },
    {
     "name": "stdout",
     "output_type": "stream",
     "text": [
      "✓  parcel_07_2022.csv\n"
     ]
    },
    {
     "data": {
      "application/vnd.jupyter.widget-view+json": {
       "model_id": "2c3b98cdbaea42d1949a204df23c8aad",
       "version_major": 2,
       "version_minor": 0
      },
      "text/plain": [
       "parcel_10_2022.csv:   0%|                                                                   | 0.00/239M [00:00…"
      ]
     },
     "metadata": {},
     "output_type": "display_data"
    },
    {
     "name": "stdout",
     "output_type": "stream",
     "text": [
      "✓  parcel_06_2022.csv\n"
     ]
    },
    {
     "data": {
      "application/vnd.jupyter.widget-view+json": {
       "model_id": "f61d778491f643fb900740862e4b92b7",
       "version_major": 2,
       "version_minor": 0
      },
      "text/plain": [
       "parcel_11_2022.csv:   0%|                                                                   | 0.00/239M [00:00…"
      ]
     },
     "metadata": {},
     "output_type": "display_data"
    },
    {
     "name": "stdout",
     "output_type": "stream",
     "text": [
      "✓  parcel_08_2022.csv\n",
      "skip parcel_12_2022.csv\n"
     ]
    },
    {
     "data": {
      "application/vnd.jupyter.widget-view+json": {
       "model_id": "78963e514df14a918f972a077c912f49",
       "version_major": 2,
       "version_minor": 0
      },
      "text/plain": [
       "parcel_01_2023.csv:   0%|                                                                   | 0.00/240M [00:00…"
      ]
     },
     "metadata": {},
     "output_type": "display_data"
    },
    {
     "name": "stdout",
     "output_type": "stream",
     "text": [
      "✓  parcel_09_2022.csv\n"
     ]
    },
    {
     "data": {
      "application/vnd.jupyter.widget-view+json": {
       "model_id": "9c69f7997db0436e809bc00c1fcd35f1",
       "version_major": 2,
       "version_minor": 0
      },
      "text/plain": [
       "parcel_02_2023.csv:   0%|                                                                   | 0.00/243M [00:00…"
      ]
     },
     "metadata": {},
     "output_type": "display_data"
    },
    {
     "name": "stdout",
     "output_type": "stream",
     "text": [
      "✓  parcel_10_2022.csv\n"
     ]
    },
    {
     "data": {
      "application/vnd.jupyter.widget-view+json": {
       "model_id": "3a0928ba1f074fc6983451ac1056d80b",
       "version_major": 2,
       "version_minor": 0
      },
      "text/plain": [
       "parcel_03_2023.csv:   0%|                                                                   | 0.00/243M [00:00…"
      ]
     },
     "metadata": {},
     "output_type": "display_data"
    },
    {
     "name": "stdout",
     "output_type": "stream",
     "text": [
      "✓  parcel_01_2023.csv\n"
     ]
    },
    {
     "data": {
      "application/vnd.jupyter.widget-view+json": {
       "model_id": "ff6a8d896134418f8b4a3b965484354a",
       "version_major": 2,
       "version_minor": 0
      },
      "text/plain": [
       "parcel_04_2023.csv:   0%|                                                                   | 0.00/244M [00:00…"
      ]
     },
     "metadata": {},
     "output_type": "display_data"
    },
    {
     "name": "stdout",
     "output_type": "stream",
     "text": [
      "✓  parcel_11_2022.csv\n"
     ]
    },
    {
     "data": {
      "application/vnd.jupyter.widget-view+json": {
       "model_id": "af9b87a60b3346a992535f5383568d63",
       "version_major": 2,
       "version_minor": 0
      },
      "text/plain": [
       "parcel_05_2023.csv:   0%|                                                                   | 0.00/244M [00:00…"
      ]
     },
     "metadata": {},
     "output_type": "display_data"
    },
    {
     "name": "stdout",
     "output_type": "stream",
     "text": [
      "✓  parcel_02_2023.csv\n"
     ]
    },
    {
     "data": {
      "application/vnd.jupyter.widget-view+json": {
       "model_id": "4511f2b88ca0453498700effacfbd8b8",
       "version_major": 2,
       "version_minor": 0
      },
      "text/plain": [
       "parcel_06_2023.csv:   0%|                                                                   | 0.00/245M [00:00…"
      ]
     },
     "metadata": {},
     "output_type": "display_data"
    },
    {
     "name": "stdout",
     "output_type": "stream",
     "text": [
      "✓  parcel_03_2023.csv\n"
     ]
    },
    {
     "data": {
      "application/vnd.jupyter.widget-view+json": {
       "model_id": "fac644b5575246da803102df8efd26d9",
       "version_major": 2,
       "version_minor": 0
      },
      "text/plain": [
       "parcel_07_2023.csv:   0%|                                                                   | 0.00/245M [00:00…"
      ]
     },
     "metadata": {},
     "output_type": "display_data"
    },
    {
     "name": "stdout",
     "output_type": "stream",
     "text": [
      "✓  parcel_04_2023.csv\n"
     ]
    },
    {
     "data": {
      "application/vnd.jupyter.widget-view+json": {
       "model_id": "9e1605d3fc404411acfa9b5d63bb6ce3",
       "version_major": 2,
       "version_minor": 0
      },
      "text/plain": [
       "parcel_08_2023.csv:   0%|                                                                   | 0.00/246M [00:00…"
      ]
     },
     "metadata": {},
     "output_type": "display_data"
    },
    {
     "name": "stdout",
     "output_type": "stream",
     "text": [
      "✓  parcel_05_2023.csv\n"
     ]
    },
    {
     "data": {
      "application/vnd.jupyter.widget-view+json": {
       "model_id": "731b5bcb52864eb0a0a69bbd39329821",
       "version_major": 2,
       "version_minor": 0
      },
      "text/plain": [
       "parcel_09_2023.csv:   0%|                                                                   | 0.00/246M [00:00…"
      ]
     },
     "metadata": {},
     "output_type": "display_data"
    },
    {
     "name": "stdout",
     "output_type": "stream",
     "text": [
      "✓  parcel_08_2023.csv\n"
     ]
    },
    {
     "data": {
      "application/vnd.jupyter.widget-view+json": {
       "model_id": "04bb9f12171545bc98215dfa03cd07d6",
       "version_major": 2,
       "version_minor": 0
      },
      "text/plain": [
       "parcel_10_2023.csv:   0%|                                                                   | 0.00/246M [00:00…"
      ]
     },
     "metadata": {},
     "output_type": "display_data"
    },
    {
     "name": "stdout",
     "output_type": "stream",
     "text": [
      "✓  parcel_07_2023.csv\n"
     ]
    },
    {
     "data": {
      "application/vnd.jupyter.widget-view+json": {
       "model_id": "853a49baf74f4388804b16a3dd7d8da3",
       "version_major": 2,
       "version_minor": 0
      },
      "text/plain": [
       "parcel_11_2023.csv:   0%|                                                                   | 0.00/247M [00:00…"
      ]
     },
     "metadata": {},
     "output_type": "display_data"
    },
    {
     "name": "stdout",
     "output_type": "stream",
     "text": [
      "✓  parcel_06_2023.csv\n",
      "skip parcel_12_2023.csv\n"
     ]
    },
    {
     "data": {
      "application/vnd.jupyter.widget-view+json": {
       "model_id": "18472c977f394eae89f23c10bdc9cfd5",
       "version_major": 2,
       "version_minor": 0
      },
      "text/plain": [
       "parcel_01_2024.csv:   0%|                                                                   | 0.00/248M [00:00…"
      ]
     },
     "metadata": {},
     "output_type": "display_data"
    },
    {
     "name": "stdout",
     "output_type": "stream",
     "text": [
      "✓  parcel_09_2023.csv\n"
     ]
    },
    {
     "data": {
      "application/vnd.jupyter.widget-view+json": {
       "model_id": "50f816791d894d0586471856b836b74d",
       "version_major": 2,
       "version_minor": 0
      },
      "text/plain": [
       "parcel_02_2024.csv:   0%|                                                                   | 0.00/250M [00:00…"
      ]
     },
     "metadata": {},
     "output_type": "display_data"
    },
    {
     "name": "stdout",
     "output_type": "stream",
     "text": [
      "✓  parcel_10_2023.csv\n"
     ]
    },
    {
     "data": {
      "application/vnd.jupyter.widget-view+json": {
       "model_id": "a1b8cd9cc2ad4c58a343c8b82b6e9ff2",
       "version_major": 2,
       "version_minor": 0
      },
      "text/plain": [
       "parcel_03_2024.csv:   0%|                                                                   | 0.00/251M [00:00…"
      ]
     },
     "metadata": {},
     "output_type": "display_data"
    },
    {
     "name": "stdout",
     "output_type": "stream",
     "text": [
      "✓  parcel_02_2024.csv\n",
      "✓  parcel_01_2024.csv\n"
     ]
    },
    {
     "data": {
      "application/vnd.jupyter.widget-view+json": {
       "model_id": "a0f85f2101c844f8a1ffe3b738ad6f54",
       "version_major": 2,
       "version_minor": 0
      },
      "text/plain": [
       "parcel_05_2024.csv:   0%|                                                                   | 0.00/251M [00:00…"
      ]
     },
     "metadata": {},
     "output_type": "display_data"
    },
    {
     "data": {
      "application/vnd.jupyter.widget-view+json": {
       "model_id": "83087bb13beb49488d052f967b39e068",
       "version_major": 2,
       "version_minor": 0
      },
      "text/plain": [
       "parcel_04_2024.csv:   0%|                                                                   | 0.00/251M [00:00…"
      ]
     },
     "metadata": {},
     "output_type": "display_data"
    },
    {
     "name": "stdout",
     "output_type": "stream",
     "text": [
      "✓  parcel_11_2023.csv\n"
     ]
    },
    {
     "data": {
      "application/vnd.jupyter.widget-view+json": {
       "model_id": "844e50deeb894ac88c045f201388d06d",
       "version_major": 2,
       "version_minor": 0
      },
      "text/plain": [
       "parcel_06_2024.csv:   0%|                                                                   | 0.00/252M [00:00…"
      ]
     },
     "metadata": {},
     "output_type": "display_data"
    },
    {
     "name": "stdout",
     "output_type": "stream",
     "text": [
      "✓  parcel_05_2024.csv\n"
     ]
    },
    {
     "data": {
      "application/vnd.jupyter.widget-view+json": {
       "model_id": "0c2227b5d92c40ebb3678c30700c578f",
       "version_major": 2,
       "version_minor": 0
      },
      "text/plain": [
       "parcel_07_2024.csv:   0%|                                                                   | 0.00/252M [00:00…"
      ]
     },
     "metadata": {},
     "output_type": "display_data"
    },
    {
     "name": "stdout",
     "output_type": "stream",
     "text": [
      "✓  parcel_03_2024.csv\n"
     ]
    },
    {
     "data": {
      "application/vnd.jupyter.widget-view+json": {
       "model_id": "0b7426b6631848d4a29fb2e1c87ed01e",
       "version_major": 2,
       "version_minor": 0
      },
      "text/plain": [
       "parcel_08_2024.csv:   0%|                                                                   | 0.00/252M [00:00…"
      ]
     },
     "metadata": {},
     "output_type": "display_data"
    },
    {
     "name": "stdout",
     "output_type": "stream",
     "text": [
      "✓  parcel_06_2024.csv\n"
     ]
    },
    {
     "data": {
      "application/vnd.jupyter.widget-view+json": {
       "model_id": "100f3ed6081f47fcab5f0260ba3d3911",
       "version_major": 2,
       "version_minor": 0
      },
      "text/plain": [
       "parcel_09_2024.csv:   0%|                                                                   | 0.00/253M [00:00…"
      ]
     },
     "metadata": {},
     "output_type": "display_data"
    },
    {
     "name": "stdout",
     "output_type": "stream",
     "text": [
      "✓  parcel_04_2024.csv\n"
     ]
    },
    {
     "data": {
      "application/vnd.jupyter.widget-view+json": {
       "model_id": "556163b8c1da4c6cbd33fdf70f7570c0",
       "version_major": 2,
       "version_minor": 0
      },
      "text/plain": [
       "parcel_10_2024.csv:   0%|                                                                   | 0.00/253M [00:00…"
      ]
     },
     "metadata": {},
     "output_type": "display_data"
    },
    {
     "name": "stdout",
     "output_type": "stream",
     "text": [
      "✓  parcel_08_2024.csv\n"
     ]
    },
    {
     "data": {
      "application/vnd.jupyter.widget-view+json": {
       "model_id": "5a5740c0a75d496b90ac1818ea44230e",
       "version_major": 2,
       "version_minor": 0
      },
      "text/plain": [
       "parcel_11_2024.csv:   0%|                                                                   | 0.00/254M [00:00…"
      ]
     },
     "metadata": {},
     "output_type": "display_data"
    },
    {
     "name": "stdout",
     "output_type": "stream",
     "text": [
      "✓  parcel_07_2024.csv\n",
      "skip parcel_12_2024.csv\n"
     ]
    },
    {
     "data": {
      "application/vnd.jupyter.widget-view+json": {
       "model_id": "f9eee75232d240319684274c3ffd8b55",
       "version_major": 2,
       "version_minor": 0
      },
      "text/plain": [
       "parcel_01_2025.csv:   0%|                                                                   | 0.00/258M [00:00…"
      ]
     },
     "metadata": {},
     "output_type": "display_data"
    },
    {
     "name": "stdout",
     "output_type": "stream",
     "text": [
      "✓  parcel_09_2024.csv\n"
     ]
    },
    {
     "data": {
      "application/vnd.jupyter.widget-view+json": {
       "model_id": "759c51e3593049f1b17a52be822b9044",
       "version_major": 2,
       "version_minor": 0
      },
      "text/plain": [
       "parcel_02_2025.csv:   0%|                                                                   | 0.00/260M [00:00…"
      ]
     },
     "metadata": {},
     "output_type": "display_data"
    },
    {
     "name": "stdout",
     "output_type": "stream",
     "text": [
      "✓  parcel_10_2024.csv\n"
     ]
    },
    {
     "data": {
      "application/vnd.jupyter.widget-view+json": {
       "model_id": "309f1679d00e44ea88f01e904dd8b16f",
       "version_major": 2,
       "version_minor": 0
      },
      "text/plain": [
       "parcel_03_2025.csv:   0%|                                                                   | 0.00/260M [00:00…"
      ]
     },
     "metadata": {},
     "output_type": "display_data"
    },
    {
     "name": "stdout",
     "output_type": "stream",
     "text": [
      "✓  parcel_01_2025.csv\n"
     ]
    },
    {
     "data": {
      "application/vnd.jupyter.widget-view+json": {
       "model_id": "85808051debb4230838eadfa2dbbc581",
       "version_major": 2,
       "version_minor": 0
      },
      "text/plain": [
       "parcel_04_2025.csv:   0%|                                                                   | 0.00/260M [00:00…"
      ]
     },
     "metadata": {},
     "output_type": "display_data"
    },
    {
     "name": "stdout",
     "output_type": "stream",
     "text": [
      "✓  parcel_11_2024.csv\n",
      "skip parcel_05_2025.csv\n",
      "skip parcel_06_2025.csv\n",
      "skip parcel_07_2025.csv\n",
      "✓  parcel_02_2025.csv\n",
      "✓  parcel_03_2025.csv\n",
      "✓  parcel_04_2025.csv\n",
      "All requested snapshots processed. Files live in: C:\\Repositories\\jefferson-township-run-forecasting\\data\\raw\\parcel-data\n"
     ]
    }
   ],
   "source": [
    "import pathlib, requests, concurrent.futures as cf\n",
    "from datetime import date, timedelta\n",
    "from tqdm.auto import tqdm           # works in notebook & terminal\n",
    "\n",
    "# ── Constants you specified ────────────────────────────────────────────────\n",
    "ROOT       = pathlib.Path().resolve().parents[0]        # repo root one level up\n",
    "PARCEL_DIR = ROOT / \"data\" / \"raw\" / \"parcel-data\"\n",
    "PARCEL_DIR.mkdir(parents=True, exist_ok=True)\n",
    "\n",
    "BASE   = \"https://apps.franklincountyauditor.com/Parcel_CSV/{y}/{m:02d}/Parcel.csv\"\n",
    "START  = date(2018, 8, 1)                               # first NFIRS month\n",
    "END    = date.today().replace(day=1)                    # latest complete month\n",
    "CHUNK  = 128 * 1024                                     # 128 kB → frequent bar ticks\n",
    "WORKERS = 4                                             # drop to 1 on slow links\n",
    "\n",
    "# ── Build list of (year, month) tuples we need ────────────────────────────\n",
    "todo = []\n",
    "cur = START\n",
    "while cur <= END:\n",
    "    todo.append((cur.year, cur.month))\n",
    "    # advance one month\n",
    "    cur = (cur.replace(day=28) + timedelta(days=4)).replace(day=1)\n",
    "\n",
    "# ── Single-file downloader (skip if file exists) ──────────────────────────\n",
    "def download_one(ym):\n",
    "    y, m = ym\n",
    "    dest = PARCEL_DIR / f\"parcel_{m:02d}_{y}.csv\"\n",
    "    if dest.exists():\n",
    "        return f\"skip {dest.name}\"\n",
    "\n",
    "    url = BASE.format(y=y, m=m)\n",
    "    r   = requests.get(url, stream=True, timeout=60)\n",
    "    if r.status_code != 200:\n",
    "        return f\"⚠  {y}-{m:02d} missing ({r.status_code})\"\n",
    "\n",
    "    total = int(r.headers.get(\"content-length\", 0))\n",
    "    with open(dest, \"wb\") as f, tqdm(\n",
    "            total=total, unit=\"B\", unit_scale=True, leave=False,\n",
    "            desc=dest.name, colour=\"green\", dynamic_ncols=True,\n",
    "    ) as bar:\n",
    "        for chunk in r.iter_content(chunk_size=CHUNK):\n",
    "            f.write(chunk)\n",
    "            bar.update(len(chunk))\n",
    "    return f\"✓  {dest.name}\"\n",
    "\n",
    "# ── Run downloads with a visible outer bar ────────────────────────────────\n",
    "pbar = tqdm(total=len(todo), desc=\"Completed\", unit=\"file\")\n",
    "with cf.ThreadPoolExecutor(max_workers=WORKERS) as pool:\n",
    "    futures = [pool.submit(download_one, ym) for ym in todo]\n",
    "    for fut in cf.as_completed(futures):\n",
    "        msg = fut.result()\n",
    "        tqdm.write(msg)      # prints each “skip / ✓ / ⚠” line\n",
    "        pbar.update(1)\n",
    "pbar.close()\n",
    "\n",
    "print(\"All requested snapshots processed. Files live in:\", PARCEL_DIR)"
   ]
  },
  {
   "cell_type": "code",
   "execution_count": null,
   "id": "15fbb8e5-e192-41ca-8627-08b599598c6c",
   "metadata": {},
   "outputs": [],
   "source": []
  }
 ],
 "metadata": {
  "kernelspec": {
   "display_name": "Python 3 (ipykernel)",
   "language": "python",
   "name": "python3"
  },
  "language_info": {
   "codemirror_mode": {
    "name": "ipython",
    "version": 3
   },
   "file_extension": ".py",
   "mimetype": "text/x-python",
   "name": "python",
   "nbconvert_exporter": "python",
   "pygments_lexer": "ipython3",
   "version": "3.13.2"
  }
 },
 "nbformat": 4,
 "nbformat_minor": 5
}
