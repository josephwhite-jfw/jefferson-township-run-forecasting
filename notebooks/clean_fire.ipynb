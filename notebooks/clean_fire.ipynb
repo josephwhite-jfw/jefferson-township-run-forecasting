{
 "cells": [
  {
   "cell_type": "code",
   "execution_count": 62,
   "id": "ef76a1b9-768b-4353-9bbc-cd4311b9e554",
   "metadata": {},
   "outputs": [],
   "source": [
    "# 1) Imports & Paths\n",
    "import pandas as pd\n",
    "from pathlib import Path\n",
    "\n",
    "ROOT      = Path().resolve().parents[0]\n",
    "RAW_DIR   = ROOT / \"data\" / \"raw\"\n",
    "CLEAN_DIR = ROOT / \"data\" / \"clean\""
   ]
  },
  {
   "cell_type": "code",
   "execution_count": 63,
   "id": "7ab82288-ac73-4939-89c1-ae93a92a4008",
   "metadata": {},
   "outputs": [],
   "source": [
    "# 2) Load raw data (all as strings to avoid dtype surprises)\n",
    "raw_path = RAW_DIR / \"fire_and_ems_runs_2018_2025.csv\"\n",
    "df = pd.read_csv(raw_path, dtype=str)"
   ]
  },
  {
   "cell_type": "code",
   "execution_count": 64,
   "id": "640ba6b0-9b63-4eae-b5ea-b771c290f141",
   "metadata": {},
   "outputs": [],
   "source": [
    "# 3) Rename columns to snake_case\n",
    "df = df.rename(columns={\n",
    "    \"Agency FDID\":                         \"agency_fdid\",\n",
    "    \"Basic Incident Number (FD1)\":         \"incident_number\",\n",
    "    \"Basic Incident Date Original (FD1.3)\":\"incident_date\",\n",
    "    \"Basic Incident Year (FD1.3)\":         \"incident_year\",\n",
    "    \"Basic Incident Type Code (FD1.21)\":   \"incident_type_code\",\n",
    "    \"Basic Incident Type (FD1.21)\":        \"incident_type\",\n",
    "    \"Basic Aid Given Or Received Code (FD1.22)\": \"aid_code\",\n",
    "    \"Basic Aid Given Or Received (FD1.22)\":      \"aid\",\n",
    "    \"Basic Property Use Category (FD1.46)\":     \"property_use_category\",\n",
    "    \"Basic Property Use Code (FD1.46)\":         \"property_use_code\",\n",
    "    \"Basic Property Use (FD1.46)\":              \"property_use\",\n",
    "    \"Basic Incident Full Street Address\":       \"address\",\n",
    "    \"Basic Incident City Name (FD1.16)\":        \"city\",\n",
    "    \"Basic Incident State (FD1.18)\":            \"state\",\n",
    "    \"Basic Incident Postal Code (FD1.19)\":      \"postal_code\"\n",
    "})"
   ]
  },
  {
   "cell_type": "code",
   "execution_count": 65,
   "id": "f24843aa-d22a-4bb5-86ad-536cebf3a703",
   "metadata": {},
   "outputs": [],
   "source": [
    "# 4) Parse dates and drop unparseable rows\n",
    "df[\"incident_date\"] = pd.to_datetime(\n",
    "    df[\"incident_date\"],\n",
    "    format=\"%m/%d/%Y\",\n",
    "    errors=\"coerce\"\n",
    ")\n",
    "df = df.dropna(subset=[\"incident_date\"])"
   ]
  },
  {
   "cell_type": "code",
   "execution_count": 66,
   "id": "eb3653f9-4110-49a5-a1d0-174e9e491fe1",
   "metadata": {},
   "outputs": [],
   "source": [
    "# 5) Fix short incident_number values by prefixing the year\n",
    "df[\"incident_year\"] = df[\"incident_year\"].astype(str).str.strip()\n",
    "def fix_incident_number(row):\n",
    "    num = row[\"incident_number\"].strip()\n",
    "    yr  = row[\"incident_year\"]\n",
    "    if num.startswith(yr):\n",
    "        return num\n",
    "    return yr + num\n",
    "\n",
    "df[\"incident_number\"] = df.apply(fix_incident_number, axis=1)\n"
   ]
  },
  {
   "cell_type": "code",
   "execution_count": 67,
   "id": "369d2c4d-9b20-4f29-bd6c-39a0221c0131",
   "metadata": {},
   "outputs": [],
   "source": [
    "# 6) Restrict to our analysis window\n",
    "df = df[\n",
    "    (df[\"incident_date\"] >= \"2018-01-01\") &\n",
    "    (df[\"incident_date\"] <= \"2025-07-31\")\n",
    "]"
   ]
  },
  {
   "cell_type": "code",
   "execution_count": 68,
   "id": "9bb9ab1f-bbcf-4851-a233-d8893c7f0fc1",
   "metadata": {},
   "outputs": [],
   "source": [
    "# 7) Standardize city names\n",
    "df[\"city_clean\"] = df[\"city\"].str.strip().str.lower()"
   ]
  },
  {
   "cell_type": "code",
   "execution_count": 69,
   "id": "c0319ca7-6b50-45db-aa33-b8099f89ef56",
   "metadata": {},
   "outputs": [],
   "source": [
    "# 8) Drop exact duplicates by composite key\n",
    "df = df.drop_duplicates(subset=[\"incident_number\", \"incident_date\"])"
   ]
  },
  {
   "cell_type": "code",
   "execution_count": 70,
   "id": "151633d4-26e3-42be-8723-478909e1d8f0",
   "metadata": {},
   "outputs": [],
   "source": [
    "# 9) Create a month‐stamp for later aggregation\n",
    "df[\"incident_month\"] = df[\"incident_date\"].dt.to_period(\"M\").dt.to_timestamp()"
   ]
  },
  {
   "cell_type": "code",
   "execution_count": 71,
   "id": "f095b5a8-fce5-419e-afb2-e78c1d0e1eaf",
   "metadata": {},
   "outputs": [
    {
     "name": "stdout",
     "output_type": "stream",
     "text": [
      "Cleaned rows: 15431\n",
      "<class 'pandas.core.frame.DataFrame'>\n",
      "Index: 15431 entries, 0 to 15436\n",
      "Data columns (total 17 columns):\n",
      " #   Column                 Non-Null Count  Dtype         \n",
      "---  ------                 --------------  -----         \n",
      " 0   agency_fdid            15431 non-null  object        \n",
      " 1   incident_number        15431 non-null  object        \n",
      " 2   incident_date          15431 non-null  datetime64[ns]\n",
      " 3   incident_year          15431 non-null  object        \n",
      " 4   incident_type_code     15431 non-null  object        \n",
      " 5   incident_type          15431 non-null  object        \n",
      " 6   aid_code               7724 non-null   object        \n",
      " 7   aid                    7724 non-null   object        \n",
      " 8   property_use_category  11548 non-null  object        \n",
      " 9   property_use_code      11551 non-null  object        \n",
      " 10  property_use           11549 non-null  object        \n",
      " 11  address                15431 non-null  object        \n",
      " 12  city                   15431 non-null  object        \n",
      " 13  state                  15431 non-null  object        \n",
      " 14  postal_code            15431 non-null  object        \n",
      " 15  city_clean             15431 non-null  object        \n",
      " 16  incident_month         15431 non-null  datetime64[ns]\n",
      "dtypes: datetime64[ns](2), object(15)\n",
      "memory usage: 2.1+ MB\n"
     ]
    }
   ],
   "source": [
    "# 10) Save cleaned dataset\n",
    "output_path = CLEAN_DIR / \"fire_and_ems_runs_clean.csv\"\n",
    "df.to_csv(output_path, index=False)\n",
    "print(f\"Cleaned rows: {len(df)}\")\n",
    "df.head()\n",
    "df.info()"
   ]
  }
 ],
 "metadata": {
  "kernelspec": {
   "display_name": "Python 3 (ipykernel)",
   "language": "python",
   "name": "python3"
  },
  "language_info": {
   "codemirror_mode": {
    "name": "ipython",
    "version": 3
   },
   "file_extension": ".py",
   "mimetype": "text/x-python",
   "name": "python",
   "nbconvert_exporter": "python",
   "pygments_lexer": "ipython3",
   "version": "3.13.2"
  }
 },
 "nbformat": 4,
 "nbformat_minor": 5
}
