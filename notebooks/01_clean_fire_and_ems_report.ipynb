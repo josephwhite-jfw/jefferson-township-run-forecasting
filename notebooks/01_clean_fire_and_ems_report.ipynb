{
 "cells": [
  {
   "cell_type": "code",
   "execution_count": 146,
   "id": "32984cdc-020d-4f27-9e50-1aa45f7d7b11",
   "metadata": {},
   "outputs": [],
   "source": [
    "# Fire Incident Cleaning Script\n",
    "\n",
    "import pandas as pd\n",
    "import re\n",
    "\n",
    "# ── 1. Load raw file ─────────────────────────────────────────────\n",
    "file_path = r\"C:\\Users\\JosephWhite\\Documents\\GitHub\\jefferson-township-run-forecasting\\data\\raw\\fire_and_ems_runs_2018_2025.csv\"\n",
    "df = pd.read_csv(file_path)"
   ]
  },
  {
   "cell_type": "code",
   "execution_count": 147,
   "id": "37dec413-e5f4-4f18-ae4f-46d17739f3cf",
   "metadata": {},
   "outputs": [],
   "source": [
    "# ── 2. Standardize column names ─────────────────────────────────\n",
    "df.columns = (\n",
    "    df.columns\n",
    "    .str.strip()\n",
    "    .str.lower()\n",
    "    .str.replace(\" \", \"_\")\n",
    "    .str.replace(\"(\", \"\", regex=False)\n",
    "    .str.replace(\")\", \"\", regex=False)\n",
    "    .str.replace(\".\", \"\", regex=False)\n",
    ")"
   ]
  },
  {
   "cell_type": "code",
   "execution_count": 148,
   "id": "59f0ae7a-4de4-4237-bfc5-7ccc862db3b2",
   "metadata": {},
   "outputs": [],
   "source": [
    "# ── 3. Create standardized incident number ──────────────────────\n",
    "df[\"incident_number_original\"] = df[\"basic_incident_number_fd1\"].astype(str)\n",
    "df = df.dropna(subset=[\"basic_incident_year_fd13\"]).copy()\n",
    "df[\"incident_year\"] = df[\"basic_incident_year_fd13\"].astype(int)\n",
    "\n",
    "def fix_incident_number(row):\n",
    "    inc = row[\"incident_number_original\"]\n",
    "    year = row[\"incident_year\"]\n",
    "    if len(inc) < 10 and year < 2022:\n",
    "        return f\"{year}{inc[-6:].zfill(6)}\"\n",
    "    else:\n",
    "        return inc\n",
    "\n",
    "df[\"incident_number_cleaned\"] = df.apply(fix_incident_number, axis=1)"
   ]
  },
  {
   "cell_type": "code",
   "execution_count": 149,
   "id": "5aa1d911-ca1a-464a-b38c-239c2838562e",
   "metadata": {},
   "outputs": [],
   "source": [
    "# ── 4. Convert numeric codes to Int64 ───────────────────────────\n",
    "df[\"basic_property_use_code_fd146\"] = pd.to_numeric(\n",
    "    df[\"basic_property_use_code_fd146\"], errors=\"coerce\"\n",
    ").astype(\"Int64\")"
   ]
  },
  {
   "cell_type": "code",
   "execution_count": 150,
   "id": "be829010-4499-4b16-98e9-cf682ccb98df",
   "metadata": {},
   "outputs": [],
   "source": [
    "# ── 5. Parse incident date column to datetime ───────────────────\n",
    "df[\"basic_incident_date_original_fd13\"] = pd.to_datetime(\n",
    "    df[\"basic_incident_date_original_fd13\"], errors=\"coerce\"\n",
    ")"
   ]
  },
  {
   "cell_type": "code",
   "execution_count": 151,
   "id": "36a65c2f-93a9-4c0c-8149-5b966409a97e",
   "metadata": {},
   "outputs": [
    {
     "name": "stdout",
     "output_type": "stream",
     "text": [
      "✓ Cleaned fire run data saved to: C:\\Users\\JosephWhite\\Documents\\GitHub\\jefferson-township-run-forecasting\\data\\clean\\fire_incidents_general_cleaned.csv\n"
     ]
    }
   ],
   "source": [
    "# ── Step 6: Save cleaned dataset ──────────────────────────────────\n",
    "df = df.sort_values(by=\"incident_number_original\", ascending=False)\n",
    "out_path = r\"C:\\Users\\JosephWhite\\Documents\\GitHub\\jefferson-township-run-forecasting\\data\\clean\\fire_incidents_general_cleaned.csv\"\n",
    "df.to_csv(out_path, index=False)\n",
    "print(\"✓ Cleaned fire run data saved to:\", out_path)"
   ]
  }
 ],
 "metadata": {
  "kernelspec": {
   "display_name": "Python 3 (ipykernel)",
   "language": "python",
   "name": "python3"
  },
  "language_info": {
   "codemirror_mode": {
    "name": "ipython",
    "version": 3
   },
   "file_extension": ".py",
   "mimetype": "text/x-python",
   "name": "python",
   "nbconvert_exporter": "python",
   "pygments_lexer": "ipython3",
   "version": "3.13.2"
  }
 },
 "nbformat": 4,
 "nbformat_minor": 5
}
