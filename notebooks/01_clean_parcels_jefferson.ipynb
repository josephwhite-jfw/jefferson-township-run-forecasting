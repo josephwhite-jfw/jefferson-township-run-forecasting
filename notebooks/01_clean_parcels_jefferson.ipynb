{
 "cells": [
  {
   "cell_type": "code",
   "execution_count": 11,
   "id": "b9efeb8d-c92f-411b-bd01-f115cd67527c",
   "metadata": {},
   "outputs": [],
   "source": [
    "from pathlib import Path\n",
    "import zipfile, pandas as pd, numpy as np\n",
    "\n",
    "# ── 1. Project paths ──────────────────────────────────────────────────────\n",
    "ROOT     = Path.cwd()\n",
    "while not (ROOT / \".gitignore\").exists() and ROOT != ROOT.parent:\n",
    "    ROOT = ROOT.parent\n",
    "\n",
    "RAW_DIR   = ROOT / \"data\" / \"raw\"\n",
    "ZIP_PATH  = RAW_DIR / \"parcel-data.zip\"\n",
    "CSV_DIR   = RAW_DIR / \"parcel-data\"           # if you have extracted the CSVs\n",
    "EXTRACTED = CSV_DIR.exists()                  # auto‑detect"
   ]
  },
  {
   "cell_type": "code",
   "execution_count": 12,
   "id": "b5d64f19-1c23-49ce-af8a-623d6a379e5b",
   "metadata": {},
   "outputs": [],
   "source": [
    "# ── 2. Config ─────────────────────────────────────────────────────────────\n",
    "YEARS    = range(2018, 2025)  # only keep 2018–2024\n",
    "JT_CODES = {\"027\",\"062\",\"067\",\"068\",\"170\",\"171\",\"172\",\"173\",\"175\",\"440\"}\n",
    "\n",
    "# include STADDR (situs address) so we can normalize it\n",
    "KEEP_COLS = [\n",
    "    \"PARCEL ID\", \"STADDR\", \"USPS_CITY\", \"TAXDESI\", \"SCHOOL\",\n",
    "    \"LANDUSE\", \"PROPTYP\", \"PCLASS\",\n",
    "    \"AREA_A\", \"NOSTORY\", \"YEARBLT\", \"ROOMS\", \"BEDRMS\", \"BATHS\",\n",
    "    \"APPRLND\", \"APPRBLD\", \"APPRTOT\",\n",
    "    \"POINT_X\", \"POINT_Y\"\n",
    "]"
   ]
  },
  {
   "cell_type": "code",
   "execution_count": 13,
   "id": "327d2151-515d-43ad-a469-fe2a7eebd17d",
   "metadata": {},
   "outputs": [],
   "source": [
    "# ── 3. Helper functions ───────────────────────────────────────────────────\n",
    "def clean_names(cols: pd.Index) -> pd.Index:\n",
    "    return (cols.str.strip()\n",
    "                .str.lower()\n",
    "                .str.replace(r\"[^\\w]+\", \"_\", regex=True)\n",
    "                .str.strip(\"_\"))\n",
    "\n",
    "def normalize_addr(s: pd.Series) -> pd.Series:\n",
    "    s = s.str.upper().fillna(\"\")\n",
    "    s = s.str.replace(r\"\\b(?:NORTH|SOUTH|EAST|WEST|N|S|E|W)\\b\", \"\", regex=True)\n",
    "    s = s.str.replace(r\"\\s+\\d{5}$\", \"\", regex=True)\n",
    "    s = s.str.replace(r\"[,\\.\\#]\", \" \", regex=True)\n",
    "    suffix_map = {\n",
    "        r\"\\bST\\b\": \"STREET\", r\"\\bRD\\b\": \"ROAD\",\n",
    "        r\"\\bAVE\\b\": \"AVENUE\", r\"\\bBLVD\\b\": \"BOULEVARD\",\n",
    "        r\"\\bDR\\b\": \"DRIVE\", r\"\\bLN\\b\": \"LANE\",\n",
    "        r\"\\bCT\\b\": \"COURT\", r\"\\bPKWY\\b\": \"PARKWAY\",\n",
    "        r\"\\bCTR\\b\": \"CENTER\", r\"\\bTER\\b\": \"TERRACE\"\n",
    "    }\n",
    "    for abbr, full in suffix_map.items():\n",
    "        s = s.str.replace(abbr, full, regex=True)\n",
    "    return s.str.replace(r\"\\s+\", \" \", regex=True).str.strip()\n",
    "\n",
    "def load_year(year: int) -> pd.DataFrame:\n",
    "    fname = f\"Parcel{year}.csv\"\n",
    "    if EXTRACTED:\n",
    "        path = CSV_DIR / fname\n",
    "        df = pd.read_csv(path, usecols=KEEP_COLS, dtype=str, low_memory=False)\n",
    "    else:\n",
    "        with zipfile.ZipFile(ZIP_PATH) as z:\n",
    "            target = next(n for n in z.namelist() if n.lower().endswith(fname.lower()))\n",
    "            with z.open(target) as f:\n",
    "                df = pd.read_csv(f, usecols=KEEP_COLS, dtype=str, low_memory=False)\n",
    "    df[\"source_year\"] = year\n",
    "    return df"
   ]
  },
  {
   "cell_type": "code",
   "execution_count": 14,
   "id": "02ddc203-de03-45b5-b9b2-e41f74f410a1",
   "metadata": {},
   "outputs": [
    {
     "name": "stdout",
     "output_type": "stream",
     "text": [
      "Loading parcels 2018… done\n",
      "Loading parcels 2019… done\n",
      "Loading parcels 2020… done\n",
      "Loading parcels 2021… done\n",
      "Loading parcels 2022… done\n",
      "Loading parcels 2023… done\n",
      "Loading parcels 2024… done\n",
      "3,051,988 total rows loaded\n"
     ]
    }
   ],
   "source": [
    "# ── 4. Load & concatenate all years ───────────────────────────────────────\n",
    "frames = []\n",
    "for y in YEARS:\n",
    "    print(f\"Loading parcels {y}…\", end=\" \")\n",
    "    frames.append(load_year(y))\n",
    "    print(\"done\")\n",
    "parcels = pd.concat(frames, ignore_index=True)\n",
    "parcels.columns = clean_names(parcels.columns)\n",
    "print(f\"{len(parcels):,} total rows loaded\")"
   ]
  },
  {
   "cell_type": "code",
   "execution_count": 15,
   "id": "286078b7-c68f-4b71-9eac-626fdc43265e",
   "metadata": {},
   "outputs": [
    {
     "name": "stdout",
     "output_type": "stream",
     "text": [
      "45,257 Jefferson rows (1.5% of all)\n"
     ]
    }
   ],
   "source": [
    "# ── 5. Filter to Jefferson Township ───────────────────────────────────────\n",
    "parcels[\"parcel_id\"] = parcels[\"parcel_id\"].str.strip()\n",
    "parcels[\"taxdist_code\"] = (\n",
    "    parcels[\"parcel_id\"]\n",
    "            .str.split(pat=\"-\", n=1).str[0]\n",
    "            .str.zfill(3)\n",
    ")\n",
    "jt = parcels[parcels[\"taxdist_code\"].isin(JT_CODES)].copy()\n",
    "print(f\"{len(jt):,} Jefferson rows ({len(jt)/len(parcels):.1%} of all)\")"
   ]
  },
  {
   "cell_type": "code",
   "execution_count": 16,
   "id": "da7286da-f240-4ff2-9d5f-219750ce90ac",
   "metadata": {},
   "outputs": [],
   "source": [
    "# ── 6. Clean & cast types ─────────────────────────────────────────────────\n",
    "num_cols = [\"area_a\",\"apprlnd\",\"apprbld\",\"apprtot\",\n",
    "            \"point_x\",\"point_y\",\"yearblt\",\"rooms\",\"bedrms\",\"baths\",\"nostory\"]\n",
    "for c in num_cols:\n",
    "    jt[c] = pd.to_numeric(jt[c], errors=\"coerce\")\n",
    "jt.loc[jt[\"area_a\"] <= 0, \"area_a\"] = np.nan\n",
    "jt.loc[~jt[\"yearblt\"].between(1850,2025), \"yearblt\"] = np.nan\n",
    "\n",
    "jt[\"landuse\"] = jt[\"landuse\"].astype(\"Int64\").astype(\"category\")\n",
    "for c in [\"proptyp\",\"pclass\"]:\n",
    "    jt[c] = jt[c].astype(\"category\")\n",
    "\n",
    "# standardize situs address\n",
    "jt[\"staddr_norm\"] = normalize_addr(jt[\"staddr\"])\n",
    "jt[\"usps_city\"]   = jt[\"usps_city\"].str.title().fillna(\"\")\n",
    "\n",
    "# volume proxy\n",
    "jt[\"stories_x_sqft\"] = jt[\"nostory\"] * jt[\"area_a\"]"
   ]
  },
  {
   "cell_type": "code",
   "execution_count": 17,
   "id": "13f5c756-61af-4591-9e63-06c5c735b472",
   "metadata": {},
   "outputs": [],
   "source": [
    "# ── 7. Year‑over‑year Δsqft ────────────────────────────────────────────────\n",
    "jt = (jt.sort_values([\"parcel_id\",\"source_year\"])\n",
    "        .assign(\n",
    "            sqft_prev  = lambda d: d.groupby(\"parcel_id\")[\"area_a\"].shift(),\n",
    "            delta_sqft = lambda d: d[\"area_a\"] - d[\"sqft_prev\"]\n",
    "        ))"
   ]
  },
  {
   "cell_type": "code",
   "execution_count": 20,
   "id": "40d6a4a0-7bb4-4f4c-ab48-10cedd8edc72",
   "metadata": {},
   "outputs": [
    {
     "name": "stdout",
     "output_type": "stream",
     "text": [
      "✓ panel saved to C:\\Users\\JosephWhite\\Documents\\GitHub\\jefferson-township-run-forecasting\\data\\clean\\parcels_jefferson_panel.csv\n",
      "✓ latest snapshot saved to C:\\Users\\JosephWhite\\Documents\\GitHub\\jefferson-township-run-forecasting\\data\\clean\\parcels_jefferson_latest.csv\n"
     ]
    }
   ],
   "source": [
    "# ── 8. Save panel & latest snapshot ──────────────────────────────────────\n",
    "OUT = ROOT / \"data\" / \"clean\"\n",
    "OUT.mkdir(parents=True, exist_ok=True)\n",
    "\n",
    "panel_csv  = OUT / \"parcels_jefferson_panel.csv\"\n",
    "latest_csv = OUT / \"parcels_jefferson_latest.csv\"\n",
    "\n",
    "jt.to_csv(panel_csv, index=False)\n",
    "print(\"✓ panel saved to\", panel_csv)\n",
    "\n",
    "jt_latest = (jt.sort_values(\"source_year\")\n",
    "               .drop_duplicates(\"parcel_id\", keep=\"last\"))\n",
    "jt_latest.to_csv(latest_csv, index=False)\n",
    "print(\"✓ latest snapshot saved to\", latest_csv)"
   ]
  },
  {
   "cell_type": "code",
   "execution_count": null,
   "id": "bce0f5bb-8871-49ad-babe-a6c272db8c4c",
   "metadata": {},
   "outputs": [],
   "source": []
  }
 ],
 "metadata": {
  "kernelspec": {
   "display_name": "Python 3 (ipykernel)",
   "language": "python",
   "name": "python3"
  },
  "language_info": {
   "codemirror_mode": {
    "name": "ipython",
    "version": 3
   },
   "file_extension": ".py",
   "mimetype": "text/x-python",
   "name": "python",
   "nbconvert_exporter": "python",
   "pygments_lexer": "ipython3",
   "version": "3.13.2"
  }
 },
 "nbformat": 4,
 "nbformat_minor": 5
}
