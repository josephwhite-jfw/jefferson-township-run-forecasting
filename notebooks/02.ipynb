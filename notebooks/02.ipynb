{
 "cells": [
  {
   "cell_type": "code",
   "execution_count": 6,
   "id": "4187185a-c096-441b-8445-514647936bf9",
   "metadata": {},
   "outputs": [],
   "source": [
    "import pandas as pd\n",
    "import zipfile\n",
    "from pathlib import Path\n",
    "\n",
    "# ── Config ───────────────────────────────────────────────────────────────\n",
    "ZIP_PATH = Path(r\"C:\\Users\\JosephWhite\\Documents\\GitHub\\jefferson-township-run-forecasting\\data\\raw\\parcel-data.zip\")\n",
    "JEFFERSON_CODES = {\"027\",\"062\",\"067\",\"068\",\"170\",\"171\",\"172\",\"173\",\"175\",\"440\"}\n",
    "OUT_PATH = Path(r\"C:\\Users\\JosephWhite\\Documents\\GitHub\\jefferson-township-run-forecasting\\data\\clean\\parcels_jefferson_cleaned.csv\")\n",
    "\n",
    "# ── Helper: Clean column names ───────────────────────────────────────────\n",
    "def clean_column_names(df):\n",
    "    return df.rename(columns=lambda c: str(c).strip().lower().replace(\" \", \"_\"))\n",
    "\n",
    "# ── Helper: Convert numeric fields safely ────────────────────────────────\n",
    "def to_float(series):\n",
    "    return pd.to_numeric(series.astype(str).str.replace(\",\", \"\").str.strip(), errors=\"coerce\")"
   ]
  },
  {
   "cell_type": "code",
   "execution_count": 7,
   "id": "531b21f5-5e32-40fe-99ac-3f32f4018abf",
   "metadata": {},
   "outputs": [
    {
     "name": "stdout",
     "output_type": "stream",
     "text": [
      "📄 Reading parcel-data/Parcel2018.csv for year 2018\n",
      "📄 Reading parcel-data/Parcel2019.csv for year 2019\n",
      "📄 Reading parcel-data/Parcel2020.csv for year 2020\n",
      "📄 Reading parcel-data/Parcel2021.csv for year 2021\n",
      "📄 Reading parcel-data/Parcel2022.csv for year 2022\n",
      "📄 Reading parcel-data/Parcel2023.csv for year 2023\n",
      "📄 Reading parcel-data/Parcel2024.csv for year 2024\n",
      "📄 Reading parcel-data/Parcel2025.csv for year 2025\n"
     ]
    }
   ],
   "source": [
    "# ── Process all yearly parcel files ──────────────────────────────────────\n",
    "dfs = []\n",
    "\n",
    "with zipfile.ZipFile(ZIP_PATH, \"r\") as archive:\n",
    "    parcel_files = [f for f in archive.namelist() if \"parcel-data/Parcel\" in f and f.endswith(\".csv\")]\n",
    "\n",
    "    for file in sorted(parcel_files):\n",
    "        year = Path(file).stem.replace(\"Parcel\", \"\")\n",
    "        print(f\"📄 Reading {file} for year {year}\")\n",
    "        with archive.open(file) as f:\n",
    "            df = pd.read_csv(f, dtype=str)\n",
    "            df = clean_column_names(df)\n",
    "            df[\"year\"] = int(year)\n",
    "\n",
    "            # Extract tax district code (e.g., 010-123456 → \"010\")\n",
    "            df[\"taxdist_code\"] = df[\"parcel_id\"].str.split(\"-\", n=1).str[0].str.zfill(3)\n",
    "\n",
    "            # Filter to Jefferson Township\n",
    "            df = df[df[\"taxdist_code\"].isin(JEFFERSON_CODES)].copy()\n",
    "\n",
    "            # Convert numeric fields\n",
    "            for col in [\"aexmlnd\", \"aexmbld\", \"aexmtot\", \"apprlnd\", \"apprbld\", \"apprtot\", \"acreage\", \"price\", \"yearblt\"]:\n",
    "                if col in df.columns:\n",
    "                    df[col] = to_float(df[col])\n",
    "\n",
    "            # Optional: construct full address\n",
    "            df[\"full_address\"] = (\n",
    "                df[\"sthnum\"].fillna(\"\").str.strip() + \" \" +\n",
    "                df[\"stdire\"].fillna(\"\").str.strip() + \" \" +\n",
    "                df[\"stname\"].fillna(\"\").str.strip() + \" \" +\n",
    "                df[\"stsfx\"].fillna(\"\").str.strip()\n",
    "            ).str.replace(r\"\\s+\", \" \", regex=True).str.strip()\n",
    "\n",
    "            dfs.append(df)"
   ]
  },
  {
   "cell_type": "code",
   "execution_count": 8,
   "id": "3797352f-26b8-420c-8357-5cb203804a8b",
   "metadata": {},
   "outputs": [
    {
     "name": "stdout",
     "output_type": "stream",
     "text": [
      "✅ Saved cleaned Jefferson Township panel → C:\\Users\\JosephWhite\\Documents\\GitHub\\jefferson-township-run-forecasting\\data\\clean\\parcels_jefferson_cleaned.csv\n"
     ]
    }
   ],
   "source": [
    "# ── Combine yearly Jefferson records ─────────────────────────────────────\n",
    "combined = pd.concat(dfs, ignore_index=True)\n",
    "\n",
    "# ── Save to CSV ──────────────────────────────────────────────────────────\n",
    "combined.to_csv(OUT_PATH, index=False)\n",
    "print(f\"✅ Saved cleaned Jefferson Township panel → {OUT_PATH}\")"
   ]
  }
 ],
 "metadata": {
  "kernelspec": {
   "display_name": "Python 3 (ipykernel)",
   "language": "python",
   "name": "python3"
  },
  "language_info": {
   "codemirror_mode": {
    "name": "ipython",
    "version": 3
   },
   "file_extension": ".py",
   "mimetype": "text/x-python",
   "name": "python",
   "nbconvert_exporter": "python",
   "pygments_lexer": "ipython3",
   "version": "3.13.2"
  }
 },
 "nbformat": 4,
 "nbformat_minor": 5
}
