{
 "cells": [
  {
   "cell_type": "code",
   "execution_count": 31,
   "id": "62474b82-92f3-40f6-905c-e9bcecdd4c30",
   "metadata": {},
   "outputs": [],
   "source": [
    "import pathlib, re, pandas as pd\n",
    "from tqdm.auto import tqdm\n",
    "from datetime import datetime\n",
    "\n",
    "# ── PATHS ────────────────────────────────────────────────────────────────\n",
    "ROOT      = pathlib.Path().resolve().parents[0]          # repo root\n",
    "RAW_DIR   = ROOT / \"data\" / \"raw\" / \"parcel-data\"\n",
    "CLEAN_DIR = ROOT / \"data\" / \"clean\"\n",
    "CLEAN_DIR.mkdir(parents=True, exist_ok=True)\n",
    "OUT_CSV   = CLEAN_DIR / \"parcels_jefferson_monthly.csv\""
   ]
  },
  {
   "cell_type": "code",
   "execution_count": 32,
   "id": "9cf77d8e-75ea-4ad7-9bd8-05b78c2bae31",
   "metadata": {},
   "outputs": [],
   "source": [
    "# ── JEFFERSON TAX-DIST CODES (your expanded list) ───────────────────────\n",
    "JT_CODES = {\"027\",\"062\",\"067\",\"068\",\"170\",\"171\",\"172\",\"173\",\"175\",\"440\"}\n",
    "\n",
    "# ── CANONICAL COLUMN ORDER ──────────────────────────────────────────────\n",
    "CANON = [\n",
    "    \"snapshot_month\",\n",
    "    \"parcel_id\", \"tax_dist_code\",\n",
    "    \"landuse\", \"proptyp\", \"pclass\",       # new categorical exposures\n",
    "    \"dweltyp\",                             # dwelling type\n",
    "    \"yearblt\", \"nostory\", \"grade\",         # building age / height / quality\n",
    "    \"area_a\",                              # square footage\n",
    "    \"market_value_land\", \"market_value_building\",\n",
    "    \"aexmtot\", \"apprtot\",                  # total market & appraised value\n",
    "    \"tifmlnd\", \"tifmbld\",                  # TIF assessed values\n",
    "]\n",
    "\n",
    "# ── ALIAS MAP (messy → tidy) ────────────────────────────────────────────\n",
    "ALIASES = {\n",
    "    # parcel id\n",
    "    \"parid\":\"parcel_id\",\"parcelid\":\"parcel_id\",\n",
    "    \"parcelnumber\":\"parcel_id\",\"parcel id\":\"parcel_id\",\n",
    "    # tax district\n",
    "    \"taxdistrict\":\"tax_dist_code\",\"tax_district\":\"tax_dist_code\",\n",
    "    \"taxdist\":\"tax_dist_code\",\n",
    "    # land use + prop type\n",
    "    \"land_use\":\"landuse\",\"landusecode\":\"landuse\",\n",
    "    \"prop_type\":\"proptyp\",\"proptype\":\"proptyp\",\n",
    "    # pclass often already lowercase\n",
    "    # square footage\n",
    "    \"totbldgsqft\":\"area_a\",\"tot_bldg_sqft\":\"area_a\",\"tot_sf\":\"area_a\",\n",
    "    # market & appraised values\n",
    "    \"aexmlnd\":\"market_value_land\",\"aexmbld\":\"market_value_building\",\n",
    "    \"marketvalue_land\":\"market_value_land\",\n",
    "    \"marketvaluebuilding\":\"market_value_building\",\n",
    "    \"aexmtot\":\"aexmtot\",\"marketvalue_total\":\"aexmtot\",\n",
    "    \"apprtot\":\"apprtot\",\"appr_total\":\"apprtot\",\n",
    "    # tif values\n",
    "    \"tifmlnd\":\"tifmlnd\",\"tifmbld\":\"tifmbld\",\n",
    "}\n",
    "\n",
    "MONTH_RE = re.compile(r\"parcel_(\\d{2})_(\\d{4})\\.csv\", re.I)"
   ]
  },
  {
   "cell_type": "code",
   "execution_count": 33,
   "id": "93afb9d3-40b7-4cc2-88b0-32ba0a786d27",
   "metadata": {},
   "outputs": [],
   "source": [
    "# ── HELPERS ──────────────────────────────────────────────────────────────\n",
    "def snapshot_from_fname(fname: pathlib.Path) -> pd.Period:\n",
    "    mm, yyyy = map(int, MONTH_RE.search(fname.name).groups())\n",
    "    return pd.Period(f\"{yyyy}-{mm:02d}\", freq=\"M\")\n",
    "\n",
    "def load_and_clean(fp: pathlib.Path) -> pd.DataFrame:\n",
    "    \"\"\"Return Jefferson rows with columns = CANON (missing cols → NaN).\"\"\"\n",
    "    df = pd.read_csv(fp, dtype=str, low_memory=False)\n",
    "\n",
    "    # 1 ▸ normalise header\n",
    "    df.columns = (df.columns.str.lower()\n",
    "                             .str.strip()\n",
    "                             .str.replace(r\"\\s+\", \"\", regex=True))\n",
    "    df.rename(columns={c: ALIASES.get(c, c) for c in df.columns}, inplace=True)\n",
    "\n",
    "    # 2 ▸ ensure parcel_id\n",
    "    if \"parcel_id\" not in df.columns:\n",
    "        guess = [c for c in df.columns if re.fullmatch(r\"par.*(id|cel)\", c)]\n",
    "        if not guess:\n",
    "            return pd.DataFrame()\n",
    "        df.rename(columns={guess[0]: \"parcel_id\"}, inplace=True)\n",
    "\n",
    "    # 3 ▸ derive tax_dist_code if missing\n",
    "    if \"tax_dist_code\" not in df.columns:\n",
    "        df[\"tax_dist_code\"] = (\n",
    "            df[\"parcel_id\"].fillna(\"\")\n",
    "                          .str.extract(r\"^(\\d{1,3})\")[0]\n",
    "                          .str.zfill(3)\n",
    "        )\n",
    "\n",
    "    # 4 ▸ Jefferson slice\n",
    "    df = df[df[\"tax_dist_code\"].isin(JT_CODES)]\n",
    "    if df.empty:\n",
    "        return df\n",
    "\n",
    "    # 5 ▸ guarantee all canonical cols exist\n",
    "    for col in CANON:\n",
    "        if col not in df.columns:\n",
    "            df[col] = pd.NA\n",
    "    df = df[[c for c in CANON if c != \"snapshot_month\"]]\n",
    "\n",
    "    # 6 ▸ numeric coercions\n",
    "    num = [\n",
    "        \"area_a\",\"market_value_land\",\"market_value_building\",\n",
    "        \"aexmtot\",\"apprtot\",\"tifmlnd\",\"tifmbld\",\n",
    "        \"yearblt\",\"nostory\"\n",
    "    ]\n",
    "    df[num] = df[num].apply(pd.to_numeric, errors=\"coerce\")\n",
    "\n",
    "    df.insert(0, \"snapshot_month\", snapshot_from_fname(fp))\n",
    "    return df"
   ]
  },
  {
   "cell_type": "code",
   "execution_count": 34,
   "id": "3d0829be-9c05-4690-bbd4-d080971e344b",
   "metadata": {},
   "outputs": [
    {
     "data": {
      "application/vnd.jupyter.widget-view+json": {
       "model_id": "74d36bc750774ac78ddaa8f19124910b",
       "version_major": 2,
       "version_minor": 0
      },
      "text/plain": [
       "Processing:   0%|          | 0/84 [00:00<?, ?file/s]"
      ]
     },
     "metadata": {},
     "output_type": "display_data"
    },
    {
     "name": "stdout",
     "output_type": "stream",
     "text": [
      "✓ Clean file → C:\\Repositories\\jefferson-township-run-forecasting\\data\\clean\\parcels_jefferson_monthly.csv  (42.6 MB)\n",
      "Finished in 0:15:34.256764\n"
     ]
    }
   ],
   "source": [
    "# ── MAIN STREAM LOOP ────────────────────────────────────────────────────\n",
    "def main():\n",
    "    files  = sorted(RAW_DIR.glob(\"parcel_*.csv\"))\n",
    "    if not files:\n",
    "        print(\"No monthly CSVs in\", RAW_DIR)\n",
    "        return\n",
    "\n",
    "    first = True\n",
    "    for f in tqdm(files, desc=\"Processing\", unit=\"file\"):\n",
    "        try:\n",
    "            chunk = load_and_clean(f)\n",
    "            if chunk.empty:\n",
    "                continue\n",
    "            chunk.to_csv(\n",
    "                OUT_CSV,\n",
    "                mode=\"w\" if first else \"a\",\n",
    "                header=first,\n",
    "                index=False\n",
    "            )\n",
    "            first = False\n",
    "        except Exception as ex:\n",
    "            tqdm.write(f\"⚠ {f.name}: {ex}\")\n",
    "\n",
    "    if first:\n",
    "        print(\"No Jefferson rows found.\")\n",
    "    else:\n",
    "        mb = OUT_CSV.stat().st_size / 1024**2\n",
    "        print(f\"✓ Clean file → {OUT_CSV}  ({mb:,.1f} MB)\")\n",
    "\n",
    "if __name__ == \"__main__\":\n",
    "    t0 = datetime.now()\n",
    "    main()\n",
    "    print(\"Finished in\", datetime.now() - t0)"
   ]
  }
 ],
 "metadata": {
  "kernelspec": {
   "display_name": "Python 3 (ipykernel)",
   "language": "python",
   "name": "python3"
  },
  "language_info": {
   "codemirror_mode": {
    "name": "ipython",
    "version": 3
   },
   "file_extension": ".py",
   "mimetype": "text/x-python",
   "name": "python",
   "nbconvert_exporter": "python",
   "pygments_lexer": "ipython3",
   "version": "3.13.2"
  }
 },
 "nbformat": 4,
 "nbformat_minor": 5
}
