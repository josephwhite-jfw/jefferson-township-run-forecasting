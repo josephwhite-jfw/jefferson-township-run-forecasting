{
 "cells": [
  {
   "cell_type": "code",
   "execution_count": 38,
   "id": "9ed3f132-a39c-46db-acdb-d25ccaf8e215",
   "metadata": {},
   "outputs": [],
   "source": [
    "# ── 1. Project paths ──────────────────────────────────────────────────────\n",
    "from pathlib import Path\n",
    "import pandas as pd\n",
    "\n",
    "ROOT = Path.cwd()\n",
    "while not (ROOT / \".gitignore\").exists() and ROOT != ROOT.parent:\n",
    "    ROOT = ROOT.parent\n",
    "\n",
    "CLEAN_DIR = ROOT / \"data\" / \"clean\"\n",
    "CLEAN_DIR.mkdir(parents=True, exist_ok=True)\n",
    "\n",
    "RUNS_PATH           = CLEAN_DIR / \"runs_cleaned.csv\"\n",
    "PARCELS_LATEST_PATH = CLEAN_DIR / \"parcels_jefferson_latest.csv\"\n",
    "PARCELS_PANEL_PATH  = CLEAN_DIR / \"parcels_jefferson_panel.csv\"\n",
    "OUTPUT_PATH         = CLEAN_DIR / \"street_year_panel.csv\""
   ]
  },
  {
   "cell_type": "code",
   "execution_count": 39,
   "id": "94273e76-2007-4a96-b892-bebf9a42de37",
   "metadata": {},
   "outputs": [],
   "source": [
    "# ── 2. Load Data ───────────────────────────────────────────────────────────\n",
    "runs           = pd.read_csv(RUNS_PATH)\n",
    "parcels_latest = pd.read_csv(PARCELS_LATEST_PATH)\n",
    "parcels_panel  = pd.read_csv(PARCELS_PANEL_PATH)"
   ]
  },
  {
   "cell_type": "code",
   "execution_count": 40,
   "id": "6769f7cf-2d1b-4245-9439-e3ae44aa41d8",
   "metadata": {},
   "outputs": [],
   "source": [
    "# ── 3. Parse Dates in Runs ────────────────────────────────────────────────\n",
    "runs['date']    = pd.to_datetime(runs['date'])\n",
    "runs['year']    = runs['date'].dt.year\n",
    "runs['weekday'] = runs['date'].dt.day_name()"
   ]
  },
  {
   "cell_type": "code",
   "execution_count": 41,
   "id": "ae819621-e551-48b4-bff8-6e888dab24c6",
   "metadata": {},
   "outputs": [],
   "source": [
    "# ── 4. Impute Missing Categories in Runs ──────────────────────────────────\n",
    "for col in ['prop_use_desc', 'aid_desc', 'inc_type_desc']:\n",
    "    runs[col] = runs[col].fillna('Unknown')"
   ]
  },
  {
   "cell_type": "code",
   "execution_count": 42,
   "id": "b57f79d5-ab5e-4b3d-96af-06321112e84f",
   "metadata": {},
   "outputs": [],
   "source": [
    "# ── 5. Feature Engineering on Parcels Latest ──────────────────────────────\n",
    "parcels_latest['prop_age'] = 2025 - parcels_latest['yearblt']\n",
    "valid_area = parcels_latest['stories_x_sqft'] > 0\n",
    "parcels_latest.loc[valid_area, 'value_per_sqft'] = (\n",
    "    parcels_latest.loc[valid_area, 'apprtot'] /\n",
    "    parcels_latest.loc[valid_area, 'stories_x_sqft']\n",
    ")\n",
    "parcels_latest.loc[~valid_area, 'value_per_sqft'] = pd.NA"
   ]
  },
  {
   "cell_type": "code",
   "execution_count": 43,
   "id": "09cdcd25-317e-40c3-968e-17c224ece9ae",
   "metadata": {},
   "outputs": [
    {
     "name": "stderr",
     "output_type": "stream",
     "text": [
      "C:\\Users\\JosephWhite\\AppData\\Local\\Temp\\ipykernel_17120\\2310508690.py:11: FutureWarning: The default fill_method='ffill' in SeriesGroupBy.pct_change is deprecated and will be removed in a future version. Either fill in any non-leading NA values prior to calling pct_change or specify 'fill_method=None' to not fill NA values.\n",
      "  .pct_change()\n"
     ]
    }
   ],
   "source": [
    "# ── 6. Compute Panel Growth Rates ─────────────────────────────────────────\n",
    "parcels_panel = parcels_panel.sort_values(['parcel_id', 'source_year'])\n",
    "parcels_panel['appr_growth'] = (\n",
    "    parcels_panel\n",
    "      .groupby('parcel_id')['apprtot']\n",
    "      .pct_change()\n",
    ")\n",
    "parcels_panel['sqft_growth'] = (\n",
    "    parcels_panel\n",
    "      .groupby('parcel_id')['stories_x_sqft']\n",
    "      .pct_change()\n",
    ")"
   ]
  },
  {
   "cell_type": "code",
   "execution_count": 47,
   "id": "a7ec76b2-57d3-485b-bbc8-00ca5fb4f083",
   "metadata": {},
   "outputs": [],
   "source": [
    "# ── 7. Extract street names (drop house numbers) ─────────────────────────\n",
    "# From runs: use 'addr_norm'\n",
    "runs['street_name'] = runs['addr_norm'].str.replace(r'^\\d+\\s+', '', regex=True)\n",
    "\n",
    "# From parcels: use 'staddr_norm'\n",
    "parcels_latest['street_name'] = parcels_latest['staddr_norm'].str.replace(r'^\\d+\\s+', '', regex=True)"
   ]
  },
  {
   "cell_type": "code",
   "execution_count": 48,
   "id": "1a813270-eccc-4447-804d-c350ad8d0ed0",
   "metadata": {},
   "outputs": [],
   "source": [
    "# ── 8. Merge Runs + Parcels on street_name ────────────────────────────────\n",
    "merged = runs.merge(\n",
    "    parcels_latest,\n",
    "    on='street_name',\n",
    "    how='left',\n",
    "    suffixes=('_run', '_parcel')\n",
    ")"
   ]
  },
  {
   "cell_type": "code",
   "execution_count": 50,
   "id": "adbfab1b-c2ff-4d75-a49b-7962cfed97a5",
   "metadata": {},
   "outputs": [],
   "source": [
    "# ── 9. Aggregate to Street‐Year Panel ─────────────────────────────────────\n",
    "# a) Total runs per street-year\n",
    "runs_by_street = (\n",
    "    merged\n",
    "      .groupby(['street_name','year'])\n",
    "      .size()\n",
    "      .rename('run_count')\n",
    ")\n",
    "\n",
    "# b) Total building area per street-year\n",
    "area_by_street = (\n",
    "    merged\n",
    "      .drop_duplicates(subset=['street_name','parcel_id','year'])\n",
    "      .groupby(['street_name','year'])['stories_x_sqft']\n",
    "      .sum()\n",
    "      .rename('total_sqft')\n",
    ")\n",
    "\n",
    "# c) Street-level average growth metrics\n",
    "growth_with_addr = (\n",
    "    parcels_panel\n",
    "      .merge(\n",
    "          parcels_latest[['parcel_id','source_year','street_name']],\n",
    "          left_on=['parcel_id','source_year'],\n",
    "          right_on=['parcel_id','source_year'],\n",
    "          how='inner'\n",
    "      )\n",
    ")\n",
    "growth_by_street = (\n",
    "    growth_with_addr\n",
    "      .groupby(['street_name','source_year'])\n",
    "      .agg({\n",
    "        'appr_growth':'mean',\n",
    "        'sqft_growth':'mean'\n",
    "      })\n",
    "      .rename_axis(index={'source_year':'year'})\n",
    ")\n",
    "\n",
    "# d) Combine into one street×year table\n",
    "street_year_panel = pd.concat(\n",
    "    [runs_by_street, area_by_street, growth_by_street],\n",
    "    axis=1\n",
    ").reset_index()"
   ]
  },
  {
   "cell_type": "code",
   "execution_count": 51,
   "id": "2b0a428d-0c98-49fb-abe6-1043f85cba61",
   "metadata": {},
   "outputs": [],
   "source": [
    "# ── 10. Save Panel ─────────────────────────────────────────────────────────\n",
    "street_year_panel.to_csv(OUTPUT_PATH, index=False)"
   ]
  },
  {
   "cell_type": "code",
   "execution_count": null,
   "id": "ad93104f-c077-4cab-bb76-ed3847c57fee",
   "metadata": {},
   "outputs": [],
   "source": []
  }
 ],
 "metadata": {
  "kernelspec": {
   "display_name": "Python 3 (ipykernel)",
   "language": "python",
   "name": "python3"
  },
  "language_info": {
   "codemirror_mode": {
    "name": "ipython",
    "version": 3
   },
   "file_extension": ".py",
   "mimetype": "text/x-python",
   "name": "python",
   "nbconvert_exporter": "python",
   "pygments_lexer": "ipython3",
   "version": "3.13.2"
  }
 },
 "nbformat": 4,
 "nbformat_minor": 5
}
