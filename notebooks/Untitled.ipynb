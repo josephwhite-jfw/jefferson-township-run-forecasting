{
 "cells": [
  {
   "cell_type": "code",
   "execution_count": 2,
   "id": "d43518d8-52bd-491b-b9e3-c474aeb886a6",
   "metadata": {},
   "outputs": [
    {
     "data": {
      "application/vnd.jupyter.widget-view+json": {
       "model_id": "956d6a8c312f4789afd8af9c66de197d",
       "version_major": 2,
       "version_minor": 0
      },
      "text/plain": [
       "  0%|          | 0/84 [00:00<?, ?it/s]"
      ]
     },
     "metadata": {},
     "output_type": "display_data"
    },
    {
     "data": {
      "application/vnd.jupyter.widget-view+json": {
       "model_id": "bdb6a2589e1c441294abd63cb7f39eb7",
       "version_major": 2,
       "version_minor": 0
      },
      "text/plain": [
       "parcel_04_2019.csv:   0%|          | 0.00/232M [00:00<?, ?B/s]"
      ]
     },
     "metadata": {},
     "output_type": "display_data"
    },
    {
     "data": {
      "application/vnd.jupyter.widget-view+json": {
       "model_id": "bd70a832002046c5b559200b7c41f1d8",
       "version_major": 2,
       "version_minor": 0
      },
      "text/plain": [
       "parcel_07_2019.csv:   0%|          | 0.00/232M [00:00<?, ?B/s]"
      ]
     },
     "metadata": {},
     "output_type": "display_data"
    },
    {
     "data": {
      "application/vnd.jupyter.widget-view+json": {
       "model_id": "1965de818e6a4277bc62fde262838a3f",
       "version_major": 2,
       "version_minor": 0
      },
      "text/plain": [
       "parcel_05_2019.csv:   0%|          | 0.00/232M [00:00<?, ?B/s]"
      ]
     },
     "metadata": {},
     "output_type": "display_data"
    },
    {
     "data": {
      "application/vnd.jupyter.widget-view+json": {
       "model_id": "a06fd5e3635243088644556b8e8e5d3f",
       "version_major": 2,
       "version_minor": 0
      },
      "text/plain": [
       "parcel_06_2019.csv:   0%|          | 0.00/232M [00:00<?, ?B/s]"
      ]
     },
     "metadata": {},
     "output_type": "display_data"
    },
    {
     "data": {
      "application/vnd.jupyter.widget-view+json": {
       "model_id": "410d8eb8f022482aa89d1f434c64fb2a",
       "version_major": 2,
       "version_minor": 0
      },
      "text/plain": [
       "parcel_08_2019.csv:   0%|          | 0.00/232M [00:00<?, ?B/s]"
      ]
     },
     "metadata": {},
     "output_type": "display_data"
    },
    {
     "data": {
      "application/vnd.jupyter.widget-view+json": {
       "model_id": "8dd13829fe4641f298cf4f9f1128fd0d",
       "version_major": 2,
       "version_minor": 0
      },
      "text/plain": [
       "parcel_09_2019.csv:   0%|          | 0.00/232M [00:00<?, ?B/s]"
      ]
     },
     "metadata": {},
     "output_type": "display_data"
    },
    {
     "data": {
      "application/vnd.jupyter.widget-view+json": {
       "model_id": "2d20f1d25ea940e0937ca838eddc8880",
       "version_major": 2,
       "version_minor": 0
      },
      "text/plain": [
       "parcel_10_2019.csv:   0%|          | 0.00/232M [00:00<?, ?B/s]"
      ]
     },
     "metadata": {},
     "output_type": "display_data"
    },
    {
     "data": {
      "application/vnd.jupyter.widget-view+json": {
       "model_id": "e95ebeed033e4db290f61116007eb462",
       "version_major": 2,
       "version_minor": 0
      },
      "text/plain": [
       "parcel_11_2019.csv:   0%|          | 0.00/233M [00:00<?, ?B/s]"
      ]
     },
     "metadata": {},
     "output_type": "display_data"
    },
    {
     "data": {
      "application/vnd.jupyter.widget-view+json": {
       "model_id": "ab051247f30d4879adaf80c34a01030b",
       "version_major": 2,
       "version_minor": 0
      },
      "text/plain": [
       "parcel_12_2019.csv:   0%|          | 0.00/233M [00:00<?, ?B/s]"
      ]
     },
     "metadata": {},
     "output_type": "display_data"
    },
    {
     "ename": "KeyboardInterrupt",
     "evalue": "",
     "output_type": "error",
     "traceback": [
      "\u001b[31m---------------------------------------------------------------------------\u001b[39m",
      "\u001b[31mKeyboardInterrupt\u001b[39m                         Traceback (most recent call last)",
      "\u001b[36mCell\u001b[39m\u001b[36m \u001b[39m\u001b[32mIn[2]\u001b[39m\u001b[32m, line 43\u001b[39m\n\u001b[32m     42\u001b[39m \u001b[38;5;28;01mwith\u001b[39;00m cf.ThreadPoolExecutor(max_workers=\u001b[32m4\u001b[39m) \u001b[38;5;28;01mas\u001b[39;00m pool:\n\u001b[32m---> \u001b[39m\u001b[32m43\u001b[39m     \u001b[38;5;28;01mfor\u001b[39;00m msg \u001b[38;5;129;01min\u001b[39;00m tqdm(pool.map(\u001b[38;5;28;01mlambda\u001b[39;00m ym: download_one(*ym), todo),  \u001b[38;5;66;03m# ← unpack here\u001b[39;00m\n\u001b[32m     44\u001b[39m                     total=\u001b[38;5;28mlen\u001b[39m(todo)):\n\u001b[32m     45\u001b[39m         \u001b[38;5;28;01mif\u001b[39;00m msg.startswith(\u001b[33m\"\u001b[39m\u001b[33m⚠\u001b[39m\u001b[33m\"\u001b[39m):\n",
      "\u001b[36mFile \u001b[39m\u001b[32m~\\miniconda3\\Lib\\site-packages\\tqdm\\notebook.py:250\u001b[39m, in \u001b[36mtqdm_notebook.__iter__\u001b[39m\u001b[34m(self)\u001b[39m\n\u001b[32m    249\u001b[39m it = \u001b[38;5;28msuper\u001b[39m().\u001b[34m__iter__\u001b[39m()\n\u001b[32m--> \u001b[39m\u001b[32m250\u001b[39m \u001b[38;5;28;01mfor\u001b[39;00m obj \u001b[38;5;129;01min\u001b[39;00m it:\n\u001b[32m    251\u001b[39m     \u001b[38;5;66;03m# return super(tqdm...) will not catch exception\u001b[39;00m\n\u001b[32m    252\u001b[39m     \u001b[38;5;28;01myield\u001b[39;00m obj\n",
      "\u001b[36mFile \u001b[39m\u001b[32m~\\miniconda3\\Lib\\site-packages\\tqdm\\std.py:1181\u001b[39m, in \u001b[36mtqdm.__iter__\u001b[39m\u001b[34m(self)\u001b[39m\n\u001b[32m   1180\u001b[39m \u001b[38;5;28;01mtry\u001b[39;00m:\n\u001b[32m-> \u001b[39m\u001b[32m1181\u001b[39m     \u001b[38;5;28;01mfor\u001b[39;00m obj \u001b[38;5;129;01min\u001b[39;00m iterable:\n\u001b[32m   1182\u001b[39m         \u001b[38;5;28;01myield\u001b[39;00m obj\n",
      "\u001b[36mFile \u001b[39m\u001b[32m~\\miniconda3\\Lib\\concurrent\\futures\\_base.py:619\u001b[39m, in \u001b[36mExecutor.map.<locals>.result_iterator\u001b[39m\u001b[34m()\u001b[39m\n\u001b[32m    618\u001b[39m \u001b[38;5;28;01mif\u001b[39;00m timeout \u001b[38;5;129;01mis\u001b[39;00m \u001b[38;5;28;01mNone\u001b[39;00m:\n\u001b[32m--> \u001b[39m\u001b[32m619\u001b[39m     \u001b[38;5;28;01myield\u001b[39;00m _result_or_cancel(fs.pop())\n\u001b[32m    620\u001b[39m \u001b[38;5;28;01melse\u001b[39;00m:\n",
      "\u001b[36mFile \u001b[39m\u001b[32m~\\miniconda3\\Lib\\concurrent\\futures\\_base.py:317\u001b[39m, in \u001b[36m_result_or_cancel\u001b[39m\u001b[34m(***failed resolving arguments***)\u001b[39m\n\u001b[32m    316\u001b[39m \u001b[38;5;28;01mtry\u001b[39;00m:\n\u001b[32m--> \u001b[39m\u001b[32m317\u001b[39m     \u001b[38;5;28;01mreturn\u001b[39;00m fut.result(timeout)\n\u001b[32m    318\u001b[39m \u001b[38;5;28;01mfinally\u001b[39;00m:\n",
      "\u001b[36mFile \u001b[39m\u001b[32m~\\miniconda3\\Lib\\concurrent\\futures\\_base.py:451\u001b[39m, in \u001b[36mFuture.result\u001b[39m\u001b[34m(self, timeout)\u001b[39m\n\u001b[32m    449\u001b[39m     \u001b[38;5;28;01mreturn\u001b[39;00m \u001b[38;5;28mself\u001b[39m.__get_result()\n\u001b[32m--> \u001b[39m\u001b[32m451\u001b[39m \u001b[38;5;28mself\u001b[39m._condition.wait(timeout)\n\u001b[32m    453\u001b[39m \u001b[38;5;28;01mif\u001b[39;00m \u001b[38;5;28mself\u001b[39m._state \u001b[38;5;129;01min\u001b[39;00m [CANCELLED, CANCELLED_AND_NOTIFIED]:\n",
      "\u001b[36mFile \u001b[39m\u001b[32m~\\miniconda3\\Lib\\threading.py:359\u001b[39m, in \u001b[36mCondition.wait\u001b[39m\u001b[34m(self, timeout)\u001b[39m\n\u001b[32m    358\u001b[39m \u001b[38;5;28;01mif\u001b[39;00m timeout \u001b[38;5;129;01mis\u001b[39;00m \u001b[38;5;28;01mNone\u001b[39;00m:\n\u001b[32m--> \u001b[39m\u001b[32m359\u001b[39m     waiter.acquire()\n\u001b[32m    360\u001b[39m     gotit = \u001b[38;5;28;01mTrue\u001b[39;00m\n",
      "\u001b[31mKeyboardInterrupt\u001b[39m: ",
      "\nDuring handling of the above exception, another exception occurred:\n",
      "\u001b[31mKeyboardInterrupt\u001b[39m                         Traceback (most recent call last)",
      "\u001b[36mCell\u001b[39m\u001b[36m \u001b[39m\u001b[32mIn[2]\u001b[39m\u001b[32m, line 42\u001b[39m\n\u001b[32m     39\u001b[39m             bar.update(\u001b[38;5;28mlen\u001b[39m(chunk))\n\u001b[32m     40\u001b[39m     \u001b[38;5;28;01mreturn\u001b[39;00m \u001b[33mf\u001b[39m\u001b[33m\"\u001b[39m\u001b[33m✓ \u001b[39m\u001b[38;5;132;01m{\u001b[39;00mdest.name\u001b[38;5;132;01m}\u001b[39;00m\u001b[33m\"\u001b[39m\n\u001b[32m---> \u001b[39m\u001b[32m42\u001b[39m \u001b[38;5;28;01mwith\u001b[39;00m cf.ThreadPoolExecutor(max_workers=\u001b[32m4\u001b[39m) \u001b[38;5;28;01mas\u001b[39;00m pool:\n\u001b[32m     43\u001b[39m     \u001b[38;5;28;01mfor\u001b[39;00m msg \u001b[38;5;129;01min\u001b[39;00m tqdm(pool.map(\u001b[38;5;28;01mlambda\u001b[39;00m ym: download_one(*ym), todo),  \u001b[38;5;66;03m# ← unpack here\u001b[39;00m\n\u001b[32m     44\u001b[39m                     total=\u001b[38;5;28mlen\u001b[39m(todo)):\n\u001b[32m     45\u001b[39m         \u001b[38;5;28;01mif\u001b[39;00m msg.startswith(\u001b[33m\"\u001b[39m\u001b[33m⚠\u001b[39m\u001b[33m\"\u001b[39m):\n",
      "\u001b[36mFile \u001b[39m\u001b[32m~\\miniconda3\\Lib\\concurrent\\futures\\_base.py:647\u001b[39m, in \u001b[36mExecutor.__exit__\u001b[39m\u001b[34m(self, exc_type, exc_val, exc_tb)\u001b[39m\n\u001b[32m    646\u001b[39m \u001b[38;5;28;01mdef\u001b[39;00m\u001b[38;5;250m \u001b[39m\u001b[34m__exit__\u001b[39m(\u001b[38;5;28mself\u001b[39m, exc_type, exc_val, exc_tb):\n\u001b[32m--> \u001b[39m\u001b[32m647\u001b[39m     \u001b[38;5;28mself\u001b[39m.shutdown(wait=\u001b[38;5;28;01mTrue\u001b[39;00m)\n\u001b[32m    648\u001b[39m     \u001b[38;5;28;01mreturn\u001b[39;00m \u001b[38;5;28;01mFalse\u001b[39;00m\n",
      "\u001b[36mFile \u001b[39m\u001b[32m~\\miniconda3\\Lib\\concurrent\\futures\\thread.py:239\u001b[39m, in \u001b[36mThreadPoolExecutor.shutdown\u001b[39m\u001b[34m(self, wait, cancel_futures)\u001b[39m\n\u001b[32m    237\u001b[39m \u001b[38;5;28;01mif\u001b[39;00m wait:\n\u001b[32m    238\u001b[39m     \u001b[38;5;28;01mfor\u001b[39;00m t \u001b[38;5;129;01min\u001b[39;00m \u001b[38;5;28mself\u001b[39m._threads:\n\u001b[32m--> \u001b[39m\u001b[32m239\u001b[39m         t.join()\n",
      "\u001b[36mFile \u001b[39m\u001b[32m~\\miniconda3\\Lib\\threading.py:1092\u001b[39m, in \u001b[36mThread.join\u001b[39m\u001b[34m(self, timeout)\u001b[39m\n\u001b[32m   1089\u001b[39m \u001b[38;5;28;01mif\u001b[39;00m timeout \u001b[38;5;129;01mis\u001b[39;00m \u001b[38;5;129;01mnot\u001b[39;00m \u001b[38;5;28;01mNone\u001b[39;00m:\n\u001b[32m   1090\u001b[39m     timeout = \u001b[38;5;28mmax\u001b[39m(timeout, \u001b[32m0\u001b[39m)\n\u001b[32m-> \u001b[39m\u001b[32m1092\u001b[39m \u001b[38;5;28mself\u001b[39m._handle.join(timeout)\n",
      "\u001b[31mKeyboardInterrupt\u001b[39m: "
     ]
    }
   ],
   "source": [
    "# Cell ▸ Download Aug-2018 → now (no scraping required)\n",
    "import pathlib, requests, concurrent.futures as cf\n",
    "from tqdm.auto import tqdm           # works with or without ipywidgets\n",
    "from datetime import date, timedelta\n",
    "\n",
    "ROOT       = pathlib.Path().resolve().parents[0]\n",
    "PARCEL_DIR = ROOT / \"data\" / \"raw\" / \"parcel-data\"\n",
    "PARCEL_DIR.mkdir(parents=True, exist_ok=True)\n",
    "\n",
    "BASE = \"https://apps.franklincountyauditor.com/Parcel_CSV/{y}/{m:02d}/Parcel.csv\"\n",
    "START = date(2018, 8, 1)                              # first NFIRS month\n",
    "END   = date.today().replace(day=1)                   # latest complete month\n",
    "\n",
    "# Build a list of (year, month) tuples\n",
    "todo = []\n",
    "cur = START\n",
    "while cur <= END:\n",
    "    todo.append((cur.year, cur.month))\n",
    "    cur = (cur.replace(day=28) + timedelta(days=4)).replace(day=1)  # +1 month\n",
    "\n",
    "from tqdm.auto import tqdm\n",
    "\n",
    "def download_one(y, m):\n",
    "    url  = f\"{BASE.format(y=y, m=m)}\"\n",
    "    dest = PARCEL_DIR / f\"parcel_{m:02d}_{y}.csv\"\n",
    "    if dest.exists():\n",
    "        return f\"skip {dest.name}\"\n",
    "\n",
    "    r = requests.get(url, stream=True, timeout=60)\n",
    "    if r.status_code != 200:\n",
    "        return f\"⚠ {y}-{m:02d} missing\"\n",
    "\n",
    "    total = int(r.headers.get(\"content-length\", 0))\n",
    "    with open(dest, \"wb\") as f, tqdm(\n",
    "            total=total, unit=\"B\", unit_scale=True,\n",
    "            desc=f\"{dest.name}\", leave=False) as bar:\n",
    "        for chunk in r.iter_content(chunk_size=1 << 20):\n",
    "            f.write(chunk)\n",
    "            bar.update(len(chunk))\n",
    "    return f\"✓ {dest.name}\"\n",
    "\n",
    "with cf.ThreadPoolExecutor(max_workers=4) as pool:\n",
    "    for msg in tqdm(pool.map(lambda ym: download_one(*ym), todo),  # ← unpack here\n",
    "                    total=len(todo)):\n",
    "        if msg.startswith(\"⚠\"):\n",
    "            print(msg)"
   ]
  },
  {
   "cell_type": "code",
   "execution_count": null,
   "id": "15fbb8e5-e192-41ca-8627-08b599598c6c",
   "metadata": {},
   "outputs": [],
   "source": []
  }
 ],
 "metadata": {
  "kernelspec": {
   "display_name": "Python 3 (ipykernel)",
   "language": "python",
   "name": "python3"
  },
  "language_info": {
   "codemirror_mode": {
    "name": "ipython",
    "version": 3
   },
   "file_extension": ".py",
   "mimetype": "text/x-python",
   "name": "python",
   "nbconvert_exporter": "python",
   "pygments_lexer": "ipython3",
   "version": "3.13.2"
  }
 },
 "nbformat": 4,
 "nbformat_minor": 5
}
