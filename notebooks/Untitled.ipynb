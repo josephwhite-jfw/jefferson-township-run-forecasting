{
 "cells": [
  {
   "cell_type": "code",
   "execution_count": 2,
   "id": "f03ab363-97ca-42cc-8c72-c8b653ea4bcd",
   "metadata": {},
   "outputs": [
    {
     "name": "stdout",
     "output_type": "stream",
     "text": [
      "['parcel id', 'aexmlnd', 'aexmbld', 'aexmtot', 'apprlnd', 'apprbld', 'apprtot', 'audmap', 'audrtg', 'landuse', 'cauv', 'school', 'mailad1', 'mailad2', 'mailad3', 'mailad4', 'trandt', 'tranyr', 'name1', 'name2', 'name3', 'owner_add1', 'owner_add2', 'nbrhd', 'flood', 'pclass', 'nocards', 'acrea', 'price', 'ann_tax', 'sthnum', 'stcont', 'sthsfx', 'stdire', 'stname', 'stsfx', 'staddr', 'usps_city', 'state', 'zipcode', 'descr1', 'descr2', 'descr3', 'taxdesi', 'valid', 'area_a', 'dweltyp', 'rooms', 'baths', 'hbaths', 'bedrms', 'aircond', 'cinbrhd', 'cond', 'fireplc', 'grade', 'height', 'nostory', 'yearblt', 'proptyp', 'wall', 'tifmlnd', 'tifmbld', 'point_x', 'point_y', 'homstd', 'bankcode']\n"
     ]
    }
   ],
   "source": [
    "import pandas as pd, pathlib\n",
    "ROOT        = pathlib.Path().resolve().parents[0]  \n",
    "cols = pd.read_csv(\n",
    "    ROOT / \"data\" / \"raw\" / \"parcel-data\" / \"parcel_01_2019.csv\",\n",
    "    nrows=0\n",
    ").columns.str.lower().str.strip()\n",
    "print(list(cols))"
   ]
  },
  {
   "cell_type": "code",
   "execution_count": null,
   "id": "0eb67d70-8c26-4cca-b136-a845d40360ba",
   "metadata": {},
   "outputs": [],
   "source": []
  }
 ],
 "metadata": {
  "kernelspec": {
   "display_name": "Python 3 (ipykernel)",
   "language": "python",
   "name": "python3"
  },
  "language_info": {
   "codemirror_mode": {
    "name": "ipython",
    "version": 3
   },
   "file_extension": ".py",
   "mimetype": "text/x-python",
   "name": "python",
   "nbconvert_exporter": "python",
   "pygments_lexer": "ipython3",
   "version": "3.13.2"
  }
 },
 "nbformat": 4,
 "nbformat_minor": 5
}
