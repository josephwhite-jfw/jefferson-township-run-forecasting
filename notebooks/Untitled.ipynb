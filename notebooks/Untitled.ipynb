{
 "cells": [
  {
   "cell_type": "code",
   "execution_count": null,
   "id": "d43518d8-52bd-491b-b9e3-c474aeb886a6",
   "metadata": {},
   "outputs": [
    {
     "data": {
      "application/vnd.jupyter.widget-view+json": {
       "model_id": "3b9136ef4ce2449bac720001fa494ae3",
       "version_major": 2,
       "version_minor": 0
      },
      "text/plain": [
       "Completed:   0%|          | 0/84 [00:00<?, ?file/s]"
      ]
     },
     "metadata": {},
     "output_type": "display_data"
    },
    {
     "data": {
      "application/vnd.jupyter.widget-view+json": {
       "model_id": "9507000ef9774ad499a5940a8cca9066",
       "version_major": 2,
       "version_minor": 0
      },
      "text/plain": [
       "parcel_08_2018.csv:   0%|                                                                   | 0.00/231M [00:00…"
      ]
     },
     "metadata": {},
     "output_type": "display_data"
    },
    {
     "data": {
      "application/vnd.jupyter.widget-view+json": {
       "model_id": "48eb102a79b645d288e34d5a5161a7db",
       "version_major": 2,
       "version_minor": 0
      },
      "text/plain": [
       "parcel_10_2018.csv:   0%|                                                                   | 0.00/232M [00:00…"
      ]
     },
     "metadata": {},
     "output_type": "display_data"
    },
    {
     "data": {
      "application/vnd.jupyter.widget-view+json": {
       "model_id": "4cd674ced21a4f808d3ce08d19f58e57",
       "version_major": 2,
       "version_minor": 0
      },
      "text/plain": [
       "parcel_11_2018.csv:   0%|                                                                   | 0.00/205M [00:00…"
      ]
     },
     "metadata": {},
     "output_type": "display_data"
    },
    {
     "data": {
      "application/vnd.jupyter.widget-view+json": {
       "model_id": "6bda858acbfb485794a565b0783416c4",
       "version_major": 2,
       "version_minor": 0
      },
      "text/plain": [
       "parcel_09_2018.csv:   0%|                                                                   | 0.00/232M [00:00…"
      ]
     },
     "metadata": {},
     "output_type": "display_data"
    },
    {
     "name": "stdout",
     "output_type": "stream",
     "text": [
      "✓  parcel_11_2018.csv\n"
     ]
    },
    {
     "data": {
      "application/vnd.jupyter.widget-view+json": {
       "model_id": "3d8d3aec11714978898c6fedc2b7a5d2",
       "version_major": 2,
       "version_minor": 0
      },
      "text/plain": [
       "parcel_12_2018.csv:   0%|                                                                   | 0.00/205M [00:00…"
      ]
     },
     "metadata": {},
     "output_type": "display_data"
    },
    {
     "name": "stdout",
     "output_type": "stream",
     "text": [
      "✓  parcel_09_2018.csv\n"
     ]
    },
    {
     "data": {
      "application/vnd.jupyter.widget-view+json": {
       "model_id": "1534063086b64302b6b5925d96a9ec88",
       "version_major": 2,
       "version_minor": 0
      },
      "text/plain": [
       "parcel_01_2019.csv:   0%|                                                                   | 0.00/205M [00:00…"
      ]
     },
     "metadata": {},
     "output_type": "display_data"
    },
    {
     "name": "stdout",
     "output_type": "stream",
     "text": [
      "✓  parcel_10_2018.csv\n"
     ]
    },
    {
     "data": {
      "application/vnd.jupyter.widget-view+json": {
       "model_id": "1a40351809d544b99b8cbb25dcca4b38",
       "version_major": 2,
       "version_minor": 0
      },
      "text/plain": [
       "parcel_02_2019.csv:   0%|                                                                   | 0.00/232M [00:00…"
      ]
     },
     "metadata": {},
     "output_type": "display_data"
    },
    {
     "name": "stdout",
     "output_type": "stream",
     "text": [
      "✓  parcel_08_2018.csv\n"
     ]
    },
    {
     "data": {
      "application/vnd.jupyter.widget-view+json": {
       "model_id": "95b59c79a7ab476d9eeb1ca55b09088f",
       "version_major": 2,
       "version_minor": 0
      },
      "text/plain": [
       "parcel_03_2019.csv:   0%|                                                                   | 0.00/232M [00:00…"
      ]
     },
     "metadata": {},
     "output_type": "display_data"
    },
    {
     "name": "stdout",
     "output_type": "stream",
     "text": [
      "✓  parcel_12_2018.csv\n"
     ]
    },
    {
     "data": {
      "application/vnd.jupyter.widget-view+json": {
       "model_id": "afdec92661324f03ac0deae94e0e2cd9",
       "version_major": 2,
       "version_minor": 0
      },
      "text/plain": [
       "parcel_04_2019.csv:   0%|                                                                   | 0.00/232M [00:00…"
      ]
     },
     "metadata": {},
     "output_type": "display_data"
    },
    {
     "name": "stdout",
     "output_type": "stream",
     "text": [
      "✓  parcel_02_2019.csv\n"
     ]
    },
    {
     "data": {
      "application/vnd.jupyter.widget-view+json": {
       "model_id": "46b345436d0f42199939da5ae176d133",
       "version_major": 2,
       "version_minor": 0
      },
      "text/plain": [
       "parcel_05_2019.csv:   0%|                                                                   | 0.00/232M [00:00…"
      ]
     },
     "metadata": {},
     "output_type": "display_data"
    },
    {
     "name": "stdout",
     "output_type": "stream",
     "text": [
      "✓  parcel_01_2019.csv\n"
     ]
    },
    {
     "data": {
      "application/vnd.jupyter.widget-view+json": {
       "model_id": "0538ca814e5f4ed0a874b222941d2f4d",
       "version_major": 2,
       "version_minor": 0
      },
      "text/plain": [
       "parcel_06_2019.csv:   0%|                                                                   | 0.00/232M [00:00…"
      ]
     },
     "metadata": {},
     "output_type": "display_data"
    },
    {
     "name": "stdout",
     "output_type": "stream",
     "text": [
      "✓  parcel_03_2019.csv\n"
     ]
    },
    {
     "data": {
      "application/vnd.jupyter.widget-view+json": {
       "model_id": "531ff442d2b2478595d0b2b836c47a16",
       "version_major": 2,
       "version_minor": 0
      },
      "text/plain": [
       "parcel_07_2019.csv:   0%|                                                                   | 0.00/232M [00:00…"
      ]
     },
     "metadata": {},
     "output_type": "display_data"
    },
    {
     "name": "stdout",
     "output_type": "stream",
     "text": [
      "✓  parcel_04_2019.csv\n"
     ]
    },
    {
     "data": {
      "application/vnd.jupyter.widget-view+json": {
       "model_id": "78626aef32854645bd9bb9029b2bb429",
       "version_major": 2,
       "version_minor": 0
      },
      "text/plain": [
       "parcel_08_2019.csv:   0%|                                                                   | 0.00/232M [00:00…"
      ]
     },
     "metadata": {},
     "output_type": "display_data"
    },
    {
     "name": "stdout",
     "output_type": "stream",
     "text": [
      "✓  parcel_07_2019.csv\n"
     ]
    },
    {
     "data": {
      "application/vnd.jupyter.widget-view+json": {
       "model_id": "e673934c52a642a1b99a08a0b98b8a26",
       "version_major": 2,
       "version_minor": 0
      },
      "text/plain": [
       "parcel_09_2019.csv:   0%|                                                                   | 0.00/232M [00:00…"
      ]
     },
     "metadata": {},
     "output_type": "display_data"
    },
    {
     "name": "stdout",
     "output_type": "stream",
     "text": [
      "✓  parcel_06_2019.csv\n"
     ]
    },
    {
     "data": {
      "application/vnd.jupyter.widget-view+json": {
       "model_id": "c99c1ae3b1f34ea2ab118b8102823f88",
       "version_major": 2,
       "version_minor": 0
      },
      "text/plain": [
       "parcel_10_2019.csv:   0%|                                                                   | 0.00/232M [00:00…"
      ]
     },
     "metadata": {},
     "output_type": "display_data"
    },
    {
     "name": "stdout",
     "output_type": "stream",
     "text": [
      "✓  parcel_05_2019.csv\n"
     ]
    },
    {
     "data": {
      "application/vnd.jupyter.widget-view+json": {
       "model_id": "c519ce9367b948cdb1f75b4bdc755376",
       "version_major": 2,
       "version_minor": 0
      },
      "text/plain": [
       "parcel_11_2019.csv:   0%|                                                                   | 0.00/233M [00:00…"
      ]
     },
     "metadata": {},
     "output_type": "display_data"
    },
    {
     "name": "stdout",
     "output_type": "stream",
     "text": [
      "✓  parcel_10_2019.csv\n",
      "skip parcel_12_2019.csv\n"
     ]
    },
    {
     "data": {
      "application/vnd.jupyter.widget-view+json": {
       "model_id": "aad3eeb834cd4ad6ad9e2db3b8a093e4",
       "version_major": 2,
       "version_minor": 0
      },
      "text/plain": [
       "parcel_01_2020.csv:   0%|                                                                   | 0.00/233M [00:00…"
      ]
     },
     "metadata": {},
     "output_type": "display_data"
    },
    {
     "name": "stdout",
     "output_type": "stream",
     "text": [
      "✓  parcel_08_2019.csv\n"
     ]
    },
    {
     "data": {
      "application/vnd.jupyter.widget-view+json": {
       "model_id": "58b897fca2394f93bd1a41f002bbb197",
       "version_major": 2,
       "version_minor": 0
      },
      "text/plain": [
       "parcel_02_2020.csv:   0%|                                                                   | 0.00/233M [00:00…"
      ]
     },
     "metadata": {},
     "output_type": "display_data"
    },
    {
     "name": "stdout",
     "output_type": "stream",
     "text": [
      "✓  parcel_09_2019.csv\n"
     ]
    },
    {
     "data": {
      "application/vnd.jupyter.widget-view+json": {
       "model_id": "e6c862d6f8a24ceea1e3f7e9d6672ff1",
       "version_major": 2,
       "version_minor": 0
      },
      "text/plain": [
       "parcel_03_2020.csv:   0%|                                                                   | 0.00/234M [00:00…"
      ]
     },
     "metadata": {},
     "output_type": "display_data"
    },
    {
     "name": "stdout",
     "output_type": "stream",
     "text": [
      "✓  parcel_11_2019.csv\n"
     ]
    },
    {
     "data": {
      "application/vnd.jupyter.widget-view+json": {
       "model_id": "9d786f5c64754b3a95dc6a83c288914b",
       "version_major": 2,
       "version_minor": 0
      },
      "text/plain": [
       "parcel_04_2020.csv:   0%|                                                                   | 0.00/234M [00:00…"
      ]
     },
     "metadata": {},
     "output_type": "display_data"
    },
    {
     "name": "stdout",
     "output_type": "stream",
     "text": [
      "✓  parcel_02_2020.csv\n"
     ]
    },
    {
     "data": {
      "application/vnd.jupyter.widget-view+json": {
       "model_id": "a8327e0c59574f3b92da427cf76a8b29",
       "version_major": 2,
       "version_minor": 0
      },
      "text/plain": [
       "parcel_05_2020.csv:   0%|                                                                   | 0.00/234M [00:00…"
      ]
     },
     "metadata": {},
     "output_type": "display_data"
    },
    {
     "name": "stdout",
     "output_type": "stream",
     "text": [
      "✓  parcel_01_2020.csv\n"
     ]
    },
    {
     "data": {
      "application/vnd.jupyter.widget-view+json": {
       "model_id": "cccca79ecd934432a90267fa5373e89d",
       "version_major": 2,
       "version_minor": 0
      },
      "text/plain": [
       "parcel_06_2020.csv:   0%|                                                                   | 0.00/234M [00:00…"
      ]
     },
     "metadata": {},
     "output_type": "display_data"
    },
    {
     "name": "stdout",
     "output_type": "stream",
     "text": [
      "✓  parcel_04_2020.csv\n"
     ]
    },
    {
     "data": {
      "application/vnd.jupyter.widget-view+json": {
       "model_id": "a89562349fa44392b7ac15e83da1d40e",
       "version_major": 2,
       "version_minor": 0
      },
      "text/plain": [
       "parcel_07_2020.csv:   0%|                                                                   | 0.00/234M [00:00…"
      ]
     },
     "metadata": {},
     "output_type": "display_data"
    },
    {
     "name": "stdout",
     "output_type": "stream",
     "text": [
      "✓  parcel_03_2020.csv\n"
     ]
    },
    {
     "data": {
      "application/vnd.jupyter.widget-view+json": {
       "model_id": "8402edc096154e1980dfb5d45b2dd704",
       "version_major": 2,
       "version_minor": 0
      },
      "text/plain": [
       "parcel_08_2020.csv:   0%|                                                                   | 0.00/234M [00:00…"
      ]
     },
     "metadata": {},
     "output_type": "display_data"
    },
    {
     "name": "stdout",
     "output_type": "stream",
     "text": [
      "✓  parcel_05_2020.csv\n"
     ]
    },
    {
     "data": {
      "application/vnd.jupyter.widget-view+json": {
       "model_id": "cb8b48ddb62e47e893f4e5ac07a55be2",
       "version_major": 2,
       "version_minor": 0
      },
      "text/plain": [
       "parcel_09_2020.csv:   0%|                                                                   | 0.00/234M [00:00…"
      ]
     },
     "metadata": {},
     "output_type": "display_data"
    },
    {
     "name": "stdout",
     "output_type": "stream",
     "text": [
      "✓  parcel_06_2020.csv\n"
     ]
    },
    {
     "data": {
      "application/vnd.jupyter.widget-view+json": {
       "model_id": "d032e353d3f5433f87e48d6ae65bb106",
       "version_major": 2,
       "version_minor": 0
      },
      "text/plain": [
       "parcel_10_2020.csv:   0%|                                                                   | 0.00/234M [00:00…"
      ]
     },
     "metadata": {},
     "output_type": "display_data"
    },
    {
     "name": "stdout",
     "output_type": "stream",
     "text": [
      "✓  parcel_08_2020.csv\n"
     ]
    },
    {
     "data": {
      "application/vnd.jupyter.widget-view+json": {
       "model_id": "1a2f68fdec01475ca545139fcb372f9b",
       "version_major": 2,
       "version_minor": 0
      },
      "text/plain": [
       "parcel_11_2020.csv:   0%|                                                                   | 0.00/234M [00:00…"
      ]
     },
     "metadata": {},
     "output_type": "display_data"
    },
    {
     "name": "stdout",
     "output_type": "stream",
     "text": [
      "✓  parcel_09_2020.csv\n"
     ]
    },
    {
     "data": {
      "application/vnd.jupyter.widget-view+json": {
       "model_id": "eea6ef6a1019444bb9cb6dc0926d3475",
       "version_major": 2,
       "version_minor": 0
      },
      "text/plain": [
       "parcel_12_2020.csv:   0%|                                                                   | 0.00/234M [00:00…"
      ]
     },
     "metadata": {},
     "output_type": "display_data"
    },
    {
     "name": "stdout",
     "output_type": "stream",
     "text": [
      "✓  parcel_07_2020.csv\n"
     ]
    },
    {
     "data": {
      "application/vnd.jupyter.widget-view+json": {
       "model_id": "949a7f5aaf6e4064995f9ce07a388a93",
       "version_major": 2,
       "version_minor": 0
      },
      "text/plain": [
       "parcel_01_2021.csv:   0%|                                                                   | 0.00/235M [00:00…"
      ]
     },
     "metadata": {},
     "output_type": "display_data"
    }
   ],
   "source": [
    "import pathlib, requests, concurrent.futures as cf\n",
    "from datetime import date, timedelta\n",
    "from tqdm.auto import tqdm           # works in notebook & terminal\n",
    "\n",
    "# ── Constants you specified ────────────────────────────────────────────────\n",
    "ROOT       = pathlib.Path().resolve().parents[0]        # repo root one level up\n",
    "PARCEL_DIR = ROOT / \"data\" / \"raw\" / \"parcel-data\"\n",
    "PARCEL_DIR.mkdir(parents=True, exist_ok=True)\n",
    "\n",
    "BASE   = \"https://apps.franklincountyauditor.com/Parcel_CSV/{y}/{m:02d}/Parcel.csv\"\n",
    "START  = date(2018, 8, 1)                               # first NFIRS month\n",
    "END    = date.today().replace(day=1)                    # latest complete month\n",
    "CHUNK  = 128 * 1024                                     # 128 kB → frequent bar ticks\n",
    "WORKERS = 4                                             # drop to 1 on slow links\n",
    "\n",
    "# ── Build list of (year, month) tuples we need ────────────────────────────\n",
    "todo = []\n",
    "cur = START\n",
    "while cur <= END:\n",
    "    todo.append((cur.year, cur.month))\n",
    "    # advance one month\n",
    "    cur = (cur.replace(day=28) + timedelta(days=4)).replace(day=1)\n",
    "\n",
    "# ── Single-file downloader (skip if file exists) ──────────────────────────\n",
    "def download_one(ym):\n",
    "    y, m = ym\n",
    "    dest = PARCEL_DIR / f\"parcel_{m:02d}_{y}.csv\"\n",
    "    if dest.exists():\n",
    "        return f\"skip {dest.name}\"\n",
    "\n",
    "    url = BASE.format(y=y, m=m)\n",
    "    r   = requests.get(url, stream=True, timeout=60)\n",
    "    if r.status_code != 200:\n",
    "        return f\"⚠  {y}-{m:02d} missing ({r.status_code})\"\n",
    "\n",
    "    total = int(r.headers.get(\"content-length\", 0))\n",
    "    with open(dest, \"wb\") as f, tqdm(\n",
    "            total=total, unit=\"B\", unit_scale=True, leave=False,\n",
    "            desc=dest.name, colour=\"green\", dynamic_ncols=True,\n",
    "    ) as bar:\n",
    "        for chunk in r.iter_content(chunk_size=CHUNK):\n",
    "            f.write(chunk)\n",
    "            bar.update(len(chunk))\n",
    "    return f\"✓  {dest.name}\"\n",
    "\n",
    "# ── Run downloads with a visible outer bar ────────────────────────────────\n",
    "pbar = tqdm(total=len(todo), desc=\"Completed\", unit=\"file\")\n",
    "with cf.ThreadPoolExecutor(max_workers=WORKERS) as pool:\n",
    "    futures = [pool.submit(download_one, ym) for ym in todo]\n",
    "    for fut in cf.as_completed(futures):\n",
    "        msg = fut.result()\n",
    "        tqdm.write(msg)      # prints each “skip / ✓ / ⚠” line\n",
    "        pbar.update(1)\n",
    "pbar.close()\n",
    "\n",
    "print(\"All requested snapshots processed. Files live in:\", PARCEL_DIR)"
   ]
  },
  {
   "cell_type": "code",
   "execution_count": null,
   "id": "15fbb8e5-e192-41ca-8627-08b599598c6c",
   "metadata": {},
   "outputs": [],
   "source": []
  }
 ],
 "metadata": {
  "kernelspec": {
   "display_name": "Python 3 (ipykernel)",
   "language": "python",
   "name": "python3"
  },
  "language_info": {
   "codemirror_mode": {
    "name": "ipython",
    "version": 3
   },
   "file_extension": ".py",
   "mimetype": "text/x-python",
   "name": "python",
   "nbconvert_exporter": "python",
   "pygments_lexer": "ipython3",
   "version": "3.13.2"
  }
 },
 "nbformat": 4,
 "nbformat_minor": 5
}
