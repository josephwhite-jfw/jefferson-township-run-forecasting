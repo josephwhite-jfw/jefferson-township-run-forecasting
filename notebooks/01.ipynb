{
 "cells": [
  {
   "cell_type": "code",
   "execution_count": 19,
   "id": "f7f6968a-c9cc-44bd-9241-590ae754be22",
   "metadata": {},
   "outputs": [],
   "source": [
    "import pandas as pd"
   ]
  },
  {
   "cell_type": "code",
   "execution_count": 20,
   "id": "3bdc37b3-6930-4fbe-9391-b743f5899189",
   "metadata": {},
   "outputs": [],
   "source": [
    "# ── 1. Load raw file ─────────────────────────────────────────────\n",
    "file_path = r\"C:\\Users\\JosephWhite\\Documents\\GitHub\\jefferson-township-run-forecasting\\data\\raw\\fire_and_ems_runs_2018_2025.csv\"\n",
    "df = pd.read_csv(file_path)"
   ]
  },
  {
   "cell_type": "code",
   "execution_count": 21,
   "id": "cdc67398-fb61-4665-b02c-887c2f54d449",
   "metadata": {},
   "outputs": [],
   "source": [
    "# ── 2. Clean column names ───────────────────────────────────────────\n",
    "df.columns = (\n",
    "    df.columns.str.strip()\n",
    "               .str.lower()\n",
    "               .str.replace(\" \", \"_\")\n",
    "               .str.replace(\"(\", \"\", regex=False)\n",
    "               .str.replace(\")\", \"\", regex=False)\n",
    ")"
   ]
  },
  {
   "cell_type": "code",
   "execution_count": 22,
   "id": "d0b3d294-c2b3-4b38-be21-9eae1250be98",
   "metadata": {},
   "outputs": [],
   "source": [
    "# ── 3. Parse date column ────────────────────────────────────────────\n",
    "df[\"basic_incident_date_original_fd1.3\"] = pd.to_datetime(\n",
    "    df[\"basic_incident_date_original_fd1.3\"], errors=\"coerce\"\n",
    ")"
   ]
  },
  {
   "cell_type": "code",
   "execution_count": 23,
   "id": "320205ae-4f1a-46b5-99f8-e3788b60d347",
   "metadata": {},
   "outputs": [],
   "source": [
    "# ── 4. Clean all string/text columns ────────────────────────────────\n",
    "text_cols = df.select_dtypes(include=\"object\").columns\n",
    "for col in text_cols:\n",
    "    df[col] = df[col].astype(str).str.strip()"
   ]
  },
  {
   "cell_type": "code",
   "execution_count": 24,
   "id": "5f528bfe-4ac7-46be-9c42-cec453973f3e",
   "metadata": {},
   "outputs": [],
   "source": [
    "# ── 5. Sort by date and incident number, descending ────────────────\n",
    "df = df.sort_values(\n",
    "    by=[\"basic_incident_date_original_fd1.3\", \"basic_incident_number_fd1\"],\n",
    "    ascending=[False, False]\n",
    ")"
   ]
  },
  {
   "cell_type": "code",
   "execution_count": 25,
   "id": "2ca9ecb6-c9e0-4a4e-a2f5-c74d044b9137",
   "metadata": {},
   "outputs": [
    {
     "name": "stdout",
     "output_type": "stream",
     "text": [
      "✅ Cleaned and saved to C:\\Users\\JosephWhite\\Documents\\GitHub\\jefferson-township-run-forecasting\\data\\clean\\fire_incidents_cleaned_sorted.csv\n"
     ]
    }
   ],
   "source": [
    "# ── 6. Save cleaned and sorted data ────────────────────────────────\n",
    "output_path = r\"C:\\Users\\JosephWhite\\Documents\\GitHub\\jefferson-township-run-forecasting\\data\\clean\\fire_incidents_cleaned_sorted.csv\"\n",
    "df.to_csv(output_path, index=False)\n",
    "print(f\"✅ Cleaned and saved to {output_path}\")"
   ]
  }
 ],
 "metadata": {
  "kernelspec": {
   "display_name": "Python 3 (ipykernel)",
   "language": "python",
   "name": "python3"
  },
  "language_info": {
   "codemirror_mode": {
    "name": "ipython",
    "version": 3
   },
   "file_extension": ".py",
   "mimetype": "text/x-python",
   "name": "python",
   "nbconvert_exporter": "python",
   "pygments_lexer": "ipython3",
   "version": "3.13.2"
  }
 },
 "nbformat": 4,
 "nbformat_minor": 5
}
