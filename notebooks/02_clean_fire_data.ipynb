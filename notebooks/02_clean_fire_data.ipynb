{
 "cells": [
  {
   "cell_type": "code",
   "execution_count": 46,
   "id": "2456afbc-e67e-458a-8df6-d6acaaf8cc4d",
   "metadata": {},
   "outputs": [],
   "source": [
    "# ── 1. Project paths ──────────────────────────────────────────────────────\n",
    "ROOT     = Path.cwd()\n",
    "while not (ROOT / \".gitignore\").exists() and ROOT != ROOT.parent:\n",
    "    ROOT = ROOT.parent\n",
    "\n",
    "RAW_DIR   = ROOT / \"data\" / \"raw\"\n",
    "FIRE_CSV  = RAW_DIR / \"Fire-Incidents-Report_2025-07-24_132502.csv\"\n",
    "\n",
    "CLEAN_DIR = ROOT / \"data\" / \"clean\"\n",
    "CLEAN_DIR.mkdir(parents=True, exist_ok=True)\n",
    "OUT_CSV   = CLEAN_DIR / \"runs_cleaned.csv\""
   ]
  },
  {
   "cell_type": "code",
   "execution_count": 47,
   "id": "638070dc-b72c-4bf9-8a13-3c3a97840bd0",
   "metadata": {},
   "outputs": [],
   "source": [
    "# ── 2. Load raw data & normalize column names ────────────────────────────\n",
    "df = pd.read_csv(FIRE_CSV, dtype=str)\n",
    "df.columns = (\n",
    "    df.columns.str.strip()\n",
    "              .str.lower()\n",
    "              .str.replace(r\"[^\\w]+\", \"_\", regex=True)\n",
    "              .str.strip(\"_\")\n",
    ")"
   ]
  },
  {
   "cell_type": "code",
   "execution_count": 48,
   "id": "8e79597f-4b98-44d4-bbf0-43947945346b",
   "metadata": {},
   "outputs": [],
   "source": [
    "# ── 3. Helper functions ───────────────────────────────────────────────────\n",
    "def coalesce(df, newcol, cols, dtype=None):\n",
    "    existing = [c for c in cols if c in df.columns]\n",
    "    if not existing:\n",
    "        return df\n",
    "    df[newcol] = df[existing].bfill(axis=1).iloc[:, 0]\n",
    "    if dtype == \"datetime\":\n",
    "        df[newcol] = pd.to_datetime(df[newcol], errors=\"coerce\")\n",
    "    elif dtype == \"Int64\":\n",
    "        df[newcol] = pd.to_numeric(df[newcol], errors=\"coerce\").astype(\"Int64\")\n",
    "    elif dtype == \"category\":\n",
    "        df[newcol] = df[newcol].astype(\"category\")\n",
    "    return df\n",
    "\n",
    "def normalize_addr(s: pd.Series) -> pd.Series:\n",
    "    s = s.str.upper().fillna(\"\")\n",
    "    # strip directionals\n",
    "    s = s.str.replace(r\"\\b(?:NORTH|SOUTH|EAST|WEST|N|S|E|W)\\b\", \"\", regex=True)\n",
    "    # drop trailing ZIP codes\n",
    "    s = s.str.replace(r\"\\s+\\d{5}$\", \"\", regex=True)\n",
    "    # remove punctuation\n",
    "    s = s.str.replace(r\"[,\\.\\#]\", \" \", regex=True)\n",
    "    # expand suffix abbreviations\n",
    "    suffix_map = {\n",
    "        r\"\\bST\\b\": \"STREET\",\n",
    "        r\"\\bRD\\b\": \"ROAD\",\n",
    "        r\"\\bAVE\\b\": \"AVENUE\",\n",
    "        r\"\\bBLVD\\b\": \"BOULEVARD\",\n",
    "        r\"\\bDR\\b\": \"DRIVE\",\n",
    "        r\"\\bLN\\b\": \"LANE\",\n",
    "        r\"\\bCT\\b\": \"COURT\",\n",
    "        r\"\\bPKWY\\b\": \"PARKWAY\"\n",
    "    }\n",
    "    for abbr, full in suffix_map.items():\n",
    "        s = s.str.replace(abbr, full, regex=True)\n",
    "    return s.str.replace(r\"\\s+\", \" \", regex=True).str.strip()"
   ]
  },
  {
   "cell_type": "code",
   "execution_count": 49,
   "id": "3aef6400-8906-4d49-b7a3-2b692bee89f7",
   "metadata": {},
   "outputs": [],
   "source": [
    "# ── 4. Coalesce & parse the best timestamp ─────────────────────────────────\n",
    "df = coalesce(df, \"date\", [\n",
    "    \"basic_incident_date_time\",\n",
    "    \"cad_entry_date_time\",\n",
    "    \"cad_dispatch_date_time\"\n",
    "], dtype=\"datetime\")"
   ]
  },
  {
   "cell_type": "code",
   "execution_count": 50,
   "id": "0f09e1fe-edfc-4372-8a0a-93b3d94b220d",
   "metadata": {},
   "outputs": [],
   "source": [
    "# ── 5. Extract time features & filter years ───────────────────────────────\n",
    "df[\"year\"]        = df[\"date\"].dt.year.astype(\"Int64\")\n",
    "df[\"month\"]       = df[\"date\"].dt.month.astype(\"Int64\")\n",
    "df[\"day\"]         = df[\"date\"].dt.day.astype(\"Int64\")\n",
    "df[\"hour_of_day\"] = df[\"date\"].dt.hour.astype(\"Int64\")\n",
    "df[\"is_weekend\"]  = df[\"date\"].dt.weekday.isin([5,6])\n",
    "\n",
    "# keep only 2018–2024\n",
    "df = df[df[\"year\"].between(2018, 2024)]"
   ]
  },
  {
   "cell_type": "code",
   "execution_count": 51,
   "id": "22469f9e-8d5f-40e4-90b4-7682e1718249",
   "metadata": {},
   "outputs": [],
   "source": [
    "# ── 6. Build full address & normalize ────────────────────────────────────\n",
    "addr_parts = [\n",
    "    \"basic_incident_street_number_fd1_10\",\n",
    "    \"basic_incident_street_prefix_fd1_11\",\n",
    "    \"basic_incident_street_name_fd1_12\",\n",
    "    \"basic_incident_street_type_fd1_13\",\n",
    "    \"basic_incident_postal_code_fd1_19\"\n",
    "]\n",
    "df[\"address\"] = (\n",
    "    df[addr_parts].fillna(\"\").agg(\" \".join, axis=1)\n",
    "                   .str.replace(r\"\\s+\", \" \", regex=True).str.strip()\n",
    ")\n",
    "df[\"addr_norm\"] = normalize_addr(df[\"address\"])"
   ]
  },
  {
   "cell_type": "code",
   "execution_count": 52,
   "id": "17467ec1-b757-419f-8a19-c80015469e1f",
   "metadata": {},
   "outputs": [],
   "source": [
    "# ── 7. Coalesce codes & descriptions ──────────────────────────────────────\n",
    "df = coalesce(df, \"incident_id\", [\"basic_incident_number_fd1\"], dtype=None)\n",
    "df = coalesce(df, \"inc_type_code\",\n",
    "              [\"basic_incident_type_code_fd1_21\"], dtype=\"Int64\")\n",
    "df = coalesce(df, \"inc_type_cat\",\n",
    "              [\"basic_incident_type_category_fd1_21\"], dtype=\"category\")\n",
    "df = coalesce(df, \"inc_type_desc\",\n",
    "              [\"basic_incident_type_fd1_21\"], dtype=None)\n",
    "\n",
    "df = coalesce(df, \"prop_use_code\",\n",
    "              [\"basic_property_use_code_fd1_46\"], dtype=\"Int64\")\n",
    "df = coalesce(df, \"prop_use_cat\",\n",
    "              [\"basic_property_use_category_fd1_46\"], dtype=\"category\")\n",
    "df = coalesce(df, \"prop_use_desc\",\n",
    "              [\"basic_property_use_fd1_46\"], dtype=None)\n",
    "\n",
    "df = coalesce(df, \"aid_code\",\n",
    "              [\"basic_aid_given_or_received_code_fd1_22\"], dtype=\"Int64\")\n",
    "df = coalesce(df, \"aid_desc\",\n",
    "              [\"basic_aid_given_or_received_code_and_description_fd1_22\"], dtype=None)"
   ]
  },
  {
   "cell_type": "code",
   "execution_count": 42,
   "id": "8a7e6595-bb82-4a2e-866c-8d8583f06aad",
   "metadata": {},
   "outputs": [],
   "source": [
    "# ── 8. Address & agency (unchanged) ──────────────────────────────────────\n",
    "addr_parts = [\n",
    "    \"basic_incident_street_number_fd1_10\",\n",
    "    \"basic_incident_street_prefix_fd1_11\",\n",
    "    \"basic_incident_street_name_fd1_12\",\n",
    "    \"basic_incident_street_type_fd1_13\",\n",
    "    \"basic_incident_postal_code_fd1_19\",\n",
    "]\n",
    "runs[\"address\"] = (\n",
    "    runs[addr_parts].fillna(\"\")\n",
    "        .agg(\" \".join, axis=1)\n",
    "        .str.replace(r\"\\s+\", \" \", regex=True)\n",
    "        .str.strip()\n",
    ")"
   ]
  },
  {
   "cell_type": "code",
   "execution_count": 53,
   "id": "5a430914-fc56-48cb-8dc1-1997f05cd911",
   "metadata": {},
   "outputs": [
    {
     "name": "stdout",
     "output_type": "stream",
     "text": [
      "✓ Cleaned fire data saved to C:\\Users\\JosephWhite\\Documents\\GitHub\\jefferson-township-run-forecasting\\data\\clean\\runs_cleaned.csv\n"
     ]
    }
   ],
   "source": [
    "# ── 8. Subset, dedupe & save ──────────────────────────────────────────────\n",
    "keep_cols = [\n",
    "    \"incident_id\", \"date\", \"year\", \"month\", \"day\", \"hour_of_day\", \"is_weekend\",\n",
    "    \"inc_type_code\", \"inc_type_cat\", \"inc_type_desc\",\n",
    "    \"prop_use_code\", \"prop_use_cat\", \"prop_use_desc\",\n",
    "    \"aid_code\", \"aid_desc\",\n",
    "    \"address\", \"addr_norm\", \"agency_name\"\n",
    "]\n",
    "out = (\n",
    "    df.loc[:, [c for c in keep_cols if c in df.columns]]\n",
    "      .drop_duplicates(subset=\"incident_id\")\n",
    ")\n",
    "\n",
    "out.to_csv(OUT_CSV, index=False)\n",
    "print(\"✓ Cleaned fire data saved to\", OUT_CSV)"
   ]
  },
  {
   "cell_type": "code",
   "execution_count": null,
   "id": "159984dc-215f-4f4b-8af5-3fb4376f39cb",
   "metadata": {},
   "outputs": [],
   "source": []
  }
 ],
 "metadata": {
  "kernelspec": {
   "display_name": "Python 3 (ipykernel)",
   "language": "python",
   "name": "python3"
  },
  "language_info": {
   "codemirror_mode": {
    "name": "ipython",
    "version": 3
   },
   "file_extension": ".py",
   "mimetype": "text/x-python",
   "name": "python",
   "nbconvert_exporter": "python",
   "pygments_lexer": "ipython3",
   "version": "3.13.2"
  }
 },
 "nbformat": 4,
 "nbformat_minor": 5
}
