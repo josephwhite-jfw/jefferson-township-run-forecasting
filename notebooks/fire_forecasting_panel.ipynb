{
 "cells": [
  {
   "cell_type": "markdown",
   "id": "689366a7",
   "metadata": {},
   "source": [
    "# Jefferson Township Fire Run Forecasting Panel\n",
    "This notebook constructs a yearly panel dataset combining fire run data and parcel data."
   ]
  },
  {
   "cell_type": "code",
   "execution_count": 3,
   "id": "22386a95",
   "metadata": {},
   "outputs": [],
   "source": [
    "import pandas as pd\n",
    "import numpy as np\n",
    "from pathlib import Path\n",
    "\n",
    "fire_path = Path(r\"C:\\Users\\JosephWhite\\Documents\\GitHub\\jefferson-township-run-forecasting\\data\\clean\\fire_incidents_cleaned_sorted.csv\")\n",
    "parcel_path = Path(r\"C:\\Users\\JosephWhite\\Documents\\GitHub\\jefferson-township-run-forecasting\\data\\clean\\parcels_jefferson_cleaned.csv\")\n",
    "\n",
    "fire = pd.read_csv(fire_path)\n",
    "parcels = pd.read_csv(parcel_path)"
   ]
  },
  {
   "cell_type": "code",
   "execution_count": 4,
   "id": "b6964213",
   "metadata": {},
   "outputs": [],
   "source": [
    "# Clean and prepare fire data\n",
    "fire = fire.rename(columns={\n",
    "    'basic_incident_date_original_fd1.3': 'date',\n",
    "    'basic_incident_type_fd1.21': 'incident_type',\n",
    "    'basic_incident_type_code_fd1.21': 'incident_type_code',\n",
    "    'basic_incident_year_fd1.3': 'year',\n",
    "    'basic_property_use_code_fd1.46': 'property_use_code',\n",
    "})\n",
    "\n",
    "fire['date'] = pd.to_datetime(fire['date'], errors='coerce')\n",
    "fire['year'] = fire['date'].dt.year.astype(\"Int64\")\n",
    "fire = fire[fire['year'].between(2018, 2025)]\n",
    "\n",
    "# 2018 observed slice and scaling\n",
    "fire_aug_dec_2018 = fire[(fire['year'] == 2018) & (fire['date'].dt.month >= 8)]\n",
    "observed_aug_dec_total = fire_aug_dec_2018.shape[0]\n",
    "\n",
    "# Scaled proportions\n",
    "incident_type_dist = fire_aug_dec_2018['incident_type'].value_counts(normalize=True).to_frame('proportion')\n",
    "incident_type_scaled = (incident_type_dist * 2499).round(0).astype(int).T\n",
    "incident_type_scaled['year'] = 2018\n",
    "\n",
    "property_use_dist = fire_aug_dec_2018['property_use_code'].dropna().astype(str).value_counts(normalize=True).to_frame('proportion')\n",
    "property_use_scaled = (property_use_dist * 2499).round(0).astype(int).T\n",
    "property_use_scaled['year'] = 2018\n",
    "\n",
    "# Yearly totals with corrected 2018 and scaled 2025\n",
    "fire_counts_by_year = fire.groupby('year').size().reset_index(name='raw_total_runs')\n",
    "fire_counts_by_year.loc[fire_counts_by_year['year'] == 2018, 'total_runs'] = 2499\n",
    "latest_2025_month = fire[fire['year'] == 2025]['date'].dt.month.max()\n",
    "scale_factor = 12 / latest_2025_month\n",
    "fire_counts_by_year.loc[fire_counts_by_year['year'] == 2025, 'total_runs'] = round(fire[fire['year'] == 2025].shape[0] * scale_factor)\n",
    "fire_counts_by_year['total_runs'] = fire_counts_by_year['total_runs'].fillna(fire_counts_by_year['raw_total_runs'])\n",
    "fire_counts_by_year = fire_counts_by_year.drop(columns='raw_total_runs')\n"
   ]
  },
  {
   "cell_type": "code",
   "execution_count": 5,
   "id": "20530e77",
   "metadata": {},
   "outputs": [
    {
     "ename": "KeyError",
     "evalue": "2018",
     "output_type": "error",
     "traceback": [
      "\u001b[31m---------------------------------------------------------------------------\u001b[39m",
      "\u001b[31mKeyError\u001b[39m                                  Traceback (most recent call last)",
      "\u001b[36mFile \u001b[39m\u001b[32m~\\miniconda3\\Lib\\site-packages\\pandas\\core\\indexes\\base.py:3805\u001b[39m, in \u001b[36mIndex.get_loc\u001b[39m\u001b[34m(self, key)\u001b[39m\n\u001b[32m   3804\u001b[39m \u001b[38;5;28;01mtry\u001b[39;00m:\n\u001b[32m-> \u001b[39m\u001b[32m3805\u001b[39m     \u001b[38;5;28;01mreturn\u001b[39;00m \u001b[38;5;28;43mself\u001b[39;49m\u001b[43m.\u001b[49m\u001b[43m_engine\u001b[49m\u001b[43m.\u001b[49m\u001b[43mget_loc\u001b[49m\u001b[43m(\u001b[49m\u001b[43mcasted_key\u001b[49m\u001b[43m)\u001b[49m\n\u001b[32m   3806\u001b[39m \u001b[38;5;28;01mexcept\u001b[39;00m \u001b[38;5;167;01mKeyError\u001b[39;00m \u001b[38;5;28;01mas\u001b[39;00m err:\n",
      "\u001b[36mFile \u001b[39m\u001b[32mindex.pyx:167\u001b[39m, in \u001b[36mpandas._libs.index.IndexEngine.get_loc\u001b[39m\u001b[34m()\u001b[39m\n",
      "\u001b[36mFile \u001b[39m\u001b[32mindex.pyx:196\u001b[39m, in \u001b[36mpandas._libs.index.IndexEngine.get_loc\u001b[39m\u001b[34m()\u001b[39m\n",
      "\u001b[36mFile \u001b[39m\u001b[32mpandas\\\\_libs\\\\hashtable_class_helper.pxi:7081\u001b[39m, in \u001b[36mpandas._libs.hashtable.PyObjectHashTable.get_item\u001b[39m\u001b[34m()\u001b[39m\n",
      "\u001b[36mFile \u001b[39m\u001b[32mpandas\\\\_libs\\\\hashtable_class_helper.pxi:7089\u001b[39m, in \u001b[36mpandas._libs.hashtable.PyObjectHashTable.get_item\u001b[39m\u001b[34m()\u001b[39m\n",
      "\u001b[31mKeyError\u001b[39m: 2018",
      "\nThe above exception was the direct cause of the following exception:\n",
      "\u001b[31mKeyError\u001b[39m                                  Traceback (most recent call last)",
      "\u001b[36mCell\u001b[39m\u001b[36m \u001b[39m\u001b[32mIn[5]\u001b[39m\u001b[32m, line 4\u001b[39m\n\u001b[32m      2\u001b[39m runs_by_incident_type = fire.groupby([\u001b[33m'\u001b[39m\u001b[33myear\u001b[39m\u001b[33m'\u001b[39m, \u001b[33m'\u001b[39m\u001b[33mincident_type\u001b[39m\u001b[33m'\u001b[39m]).size().unstack(fill_value=\u001b[32m0\u001b[39m).reset_index()\n\u001b[32m      3\u001b[39m runs_by_incident_type = runs_by_incident_type.set_index(\u001b[33m'\u001b[39m\u001b[33myear\u001b[39m\u001b[33m'\u001b[39m)\n\u001b[32m----> \u001b[39m\u001b[32m4\u001b[39m runs_by_incident_type.loc[\u001b[32m2018\u001b[39m] = \u001b[43mincident_type_scaled\u001b[49m\u001b[43m.\u001b[49m\u001b[43mloc\u001b[49m\u001b[43m[\u001b[49m\u001b[32;43m2018\u001b[39;49m\u001b[43m]\u001b[49m\n\u001b[32m      5\u001b[39m runs_by_incident_type = runs_by_incident_type.reset_index()\n\u001b[32m      7\u001b[39m runs_by_property_use_code = fire.dropna(subset=[\u001b[33m'\u001b[39m\u001b[33mproperty_use_code\u001b[39m\u001b[33m'\u001b[39m]).copy()\n",
      "\u001b[36mFile \u001b[39m\u001b[32m~\\miniconda3\\Lib\\site-packages\\pandas\\core\\indexing.py:1191\u001b[39m, in \u001b[36m_LocationIndexer.__getitem__\u001b[39m\u001b[34m(self, key)\u001b[39m\n\u001b[32m   1189\u001b[39m maybe_callable = com.apply_if_callable(key, \u001b[38;5;28mself\u001b[39m.obj)\n\u001b[32m   1190\u001b[39m maybe_callable = \u001b[38;5;28mself\u001b[39m._check_deprecated_callable_usage(key, maybe_callable)\n\u001b[32m-> \u001b[39m\u001b[32m1191\u001b[39m \u001b[38;5;28;01mreturn\u001b[39;00m \u001b[38;5;28;43mself\u001b[39;49m\u001b[43m.\u001b[49m\u001b[43m_getitem_axis\u001b[49m\u001b[43m(\u001b[49m\u001b[43mmaybe_callable\u001b[49m\u001b[43m,\u001b[49m\u001b[43m \u001b[49m\u001b[43maxis\u001b[49m\u001b[43m=\u001b[49m\u001b[43maxis\u001b[49m\u001b[43m)\u001b[49m\n",
      "\u001b[36mFile \u001b[39m\u001b[32m~\\miniconda3\\Lib\\site-packages\\pandas\\core\\indexing.py:1431\u001b[39m, in \u001b[36m_LocIndexer._getitem_axis\u001b[39m\u001b[34m(self, key, axis)\u001b[39m\n\u001b[32m   1429\u001b[39m \u001b[38;5;66;03m# fall thru to straight lookup\u001b[39;00m\n\u001b[32m   1430\u001b[39m \u001b[38;5;28mself\u001b[39m._validate_key(key, axis)\n\u001b[32m-> \u001b[39m\u001b[32m1431\u001b[39m \u001b[38;5;28;01mreturn\u001b[39;00m \u001b[38;5;28;43mself\u001b[39;49m\u001b[43m.\u001b[49m\u001b[43m_get_label\u001b[49m\u001b[43m(\u001b[49m\u001b[43mkey\u001b[49m\u001b[43m,\u001b[49m\u001b[43m \u001b[49m\u001b[43maxis\u001b[49m\u001b[43m=\u001b[49m\u001b[43maxis\u001b[49m\u001b[43m)\u001b[49m\n",
      "\u001b[36mFile \u001b[39m\u001b[32m~\\miniconda3\\Lib\\site-packages\\pandas\\core\\indexing.py:1381\u001b[39m, in \u001b[36m_LocIndexer._get_label\u001b[39m\u001b[34m(self, label, axis)\u001b[39m\n\u001b[32m   1379\u001b[39m \u001b[38;5;28;01mdef\u001b[39;00m\u001b[38;5;250m \u001b[39m\u001b[34m_get_label\u001b[39m(\u001b[38;5;28mself\u001b[39m, label, axis: AxisInt):\n\u001b[32m   1380\u001b[39m     \u001b[38;5;66;03m# GH#5567 this will fail if the label is not present in the axis.\u001b[39;00m\n\u001b[32m-> \u001b[39m\u001b[32m1381\u001b[39m     \u001b[38;5;28;01mreturn\u001b[39;00m \u001b[38;5;28;43mself\u001b[39;49m\u001b[43m.\u001b[49m\u001b[43mobj\u001b[49m\u001b[43m.\u001b[49m\u001b[43mxs\u001b[49m\u001b[43m(\u001b[49m\u001b[43mlabel\u001b[49m\u001b[43m,\u001b[49m\u001b[43m \u001b[49m\u001b[43maxis\u001b[49m\u001b[43m=\u001b[49m\u001b[43maxis\u001b[49m\u001b[43m)\u001b[49m\n",
      "\u001b[36mFile \u001b[39m\u001b[32m~\\miniconda3\\Lib\\site-packages\\pandas\\core\\generic.py:4301\u001b[39m, in \u001b[36mNDFrame.xs\u001b[39m\u001b[34m(self, key, axis, level, drop_level)\u001b[39m\n\u001b[32m   4299\u001b[39m             new_index = index[loc]\n\u001b[32m   4300\u001b[39m \u001b[38;5;28;01melse\u001b[39;00m:\n\u001b[32m-> \u001b[39m\u001b[32m4301\u001b[39m     loc = \u001b[43mindex\u001b[49m\u001b[43m.\u001b[49m\u001b[43mget_loc\u001b[49m\u001b[43m(\u001b[49m\u001b[43mkey\u001b[49m\u001b[43m)\u001b[49m\n\u001b[32m   4303\u001b[39m     \u001b[38;5;28;01mif\u001b[39;00m \u001b[38;5;28misinstance\u001b[39m(loc, np.ndarray):\n\u001b[32m   4304\u001b[39m         \u001b[38;5;28;01mif\u001b[39;00m loc.dtype == np.bool_:\n",
      "\u001b[36mFile \u001b[39m\u001b[32m~\\miniconda3\\Lib\\site-packages\\pandas\\core\\indexes\\base.py:3812\u001b[39m, in \u001b[36mIndex.get_loc\u001b[39m\u001b[34m(self, key)\u001b[39m\n\u001b[32m   3807\u001b[39m     \u001b[38;5;28;01mif\u001b[39;00m \u001b[38;5;28misinstance\u001b[39m(casted_key, \u001b[38;5;28mslice\u001b[39m) \u001b[38;5;129;01mor\u001b[39;00m (\n\u001b[32m   3808\u001b[39m         \u001b[38;5;28misinstance\u001b[39m(casted_key, abc.Iterable)\n\u001b[32m   3809\u001b[39m         \u001b[38;5;129;01mand\u001b[39;00m \u001b[38;5;28many\u001b[39m(\u001b[38;5;28misinstance\u001b[39m(x, \u001b[38;5;28mslice\u001b[39m) \u001b[38;5;28;01mfor\u001b[39;00m x \u001b[38;5;129;01min\u001b[39;00m casted_key)\n\u001b[32m   3810\u001b[39m     ):\n\u001b[32m   3811\u001b[39m         \u001b[38;5;28;01mraise\u001b[39;00m InvalidIndexError(key)\n\u001b[32m-> \u001b[39m\u001b[32m3812\u001b[39m     \u001b[38;5;28;01mraise\u001b[39;00m \u001b[38;5;167;01mKeyError\u001b[39;00m(key) \u001b[38;5;28;01mfrom\u001b[39;00m\u001b[38;5;250m \u001b[39m\u001b[34;01merr\u001b[39;00m\n\u001b[32m   3813\u001b[39m \u001b[38;5;28;01mexcept\u001b[39;00m \u001b[38;5;167;01mTypeError\u001b[39;00m:\n\u001b[32m   3814\u001b[39m     \u001b[38;5;66;03m# If we have a listlike key, _check_indexing_error will raise\u001b[39;00m\n\u001b[32m   3815\u001b[39m     \u001b[38;5;66;03m#  InvalidIndexError. Otherwise we fall through and re-raise\u001b[39;00m\n\u001b[32m   3816\u001b[39m     \u001b[38;5;66;03m#  the TypeError.\u001b[39;00m\n\u001b[32m   3817\u001b[39m     \u001b[38;5;28mself\u001b[39m._check_indexing_error(key)\n",
      "\u001b[31mKeyError\u001b[39m: 2018"
     ]
    }
   ],
   "source": [
    "# Full-year run breakdowns\n",
    "runs_by_incident_type = fire.groupby(['year', 'incident_type']).size().unstack(fill_value=0).reset_index()\n",
    "runs_by_incident_type = runs_by_incident_type.set_index('year')\n",
    "runs_by_incident_type.loc[2018] = incident_type_scaled.loc[2018]\n",
    "runs_by_incident_type = runs_by_incident_type.reset_index()\n",
    "\n",
    "runs_by_property_use_code = fire.dropna(subset=['property_use_code']).copy()\n",
    "runs_by_property_use_code['property_use_code'] = runs_by_property_use_code['property_use_code'].astype(str)\n",
    "runs_by_property_use_code = runs_by_property_use_code.groupby(['year', 'property_use_code']).size().unstack(fill_value=0).reset_index()\n",
    "runs_by_property_use_code = runs_by_property_use_code.set_index('year')\n",
    "property_use_scaled.columns = property_use_scaled.columns.astype(str)\n",
    "runs_by_property_use_code.loc[2018] = property_use_scaled.loc[2018]\n",
    "runs_by_property_use_code = runs_by_property_use_code.reset_index()\n"
   ]
  },
  {
   "cell_type": "code",
   "execution_count": null,
   "id": "4e932390",
   "metadata": {},
   "outputs": [],
   "source": [
    "# Classify and summarize parcel data\n",
    "parcels['landuse'] = parcels['landuse'].astype(str)\n",
    "\n",
    "def classify_property_type(code):\n",
    "    if code.startswith('4'):\n",
    "        return 'residential'\n",
    "    elif code.startswith('5'):\n",
    "        return 'commercial'\n",
    "    elif code.startswith('6'):\n",
    "        return 'industrial'\n",
    "    elif code.startswith(('1', '2', '3')):\n",
    "        return 'agricultural'\n",
    "    elif code.startswith('9'):\n",
    "        return 'special'\n",
    "    else:\n",
    "        return 'other'\n",
    "\n",
    "parcels['property_type'] = parcels['landuse'].apply(classify_property_type)\n",
    "parcels['square_footage'] = parcels['aexmbld'].fillna(0)\n",
    "\n",
    "parcel_counts_by_type = parcels.groupby(['year', 'property_type']).size().unstack(fill_value=0).reset_index()\n",
    "sqft_by_type = parcels.groupby(['year', 'property_type'])['square_footage'].sum().unstack(fill_value=0).reset_index()\n"
   ]
  },
  {
   "cell_type": "code",
   "execution_count": null,
   "id": "4db76b4b",
   "metadata": {},
   "outputs": [],
   "source": [
    "# Start panel with yearly totals\n",
    "panel = fire_counts_by_year.set_index('year')\n",
    "\n",
    "# Add incident types\n",
    "panel = panel.merge(runs_by_incident_type.set_index('year'), left_index=True, right_index=True, how='left')\n",
    "\n",
    "# Add parcel metrics for each year\n",
    "for col in parcel_counts_by_type.columns[1:]:\n",
    "    panel[f'parcel_count_{col}'] = panel.index.map(dict(zip(parcel_counts_by_type['year'], parcel_counts_by_type[col])))\n",
    "\n",
    "for col in sqft_by_type.columns[1:]:\n",
    "    panel[f'total_sqft_{col}'] = panel.index.map(dict(zip(sqft_by_type['year'], sqft_by_type[col])))\n",
    "\n",
    "panel = panel.reset_index()\n",
    "panel.to_csv(\"outputs/fire_forecasting_panel.csv\", index=False)\n",
    "panel.head()\n"
   ]
  }
 ],
 "metadata": {
  "kernelspec": {
   "display_name": "Python 3 (ipykernel)",
   "language": "python",
   "name": "python3"
  },
  "language_info": {
   "codemirror_mode": {
    "name": "ipython",
    "version": 3
   },
   "file_extension": ".py",
   "mimetype": "text/x-python",
   "name": "python",
   "nbconvert_exporter": "python",
   "pygments_lexer": "ipython3",
   "version": "3.13.2"
  }
 },
 "nbformat": 4,
 "nbformat_minor": 5
}
